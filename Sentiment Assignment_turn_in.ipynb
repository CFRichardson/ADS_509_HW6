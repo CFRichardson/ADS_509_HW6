{
 "cells": [
  {
   "cell_type": "markdown",
   "id": "a3607922",
   "metadata": {
    "pycharm": {
     "name": "#%% md\n"
    }
   },
   "source": [
    "Chris Richardson <br><br>\n",
    "\n",
    "October 17, 2022 <br><br>\n",
    "\n",
    "ADS-509-Fall <br><br>\n",
    "\n",
    "Github Link: [https://github.com/CFRichardson/ADS_509_HW6](https://github.com/CFRichardson/ADS_509_HW6)"
   ]
  },
  {
   "cell_type": "markdown",
   "id": "7f79baf9",
   "metadata": {
    "id": "7f79baf9",
    "pycharm": {
     "name": "#%% md\n"
    }
   },
   "source": [
    "# ADS 509 Sentiment Assignment\n",
    "\n",
    "This notebook holds the Sentiment Assignment for Module 6 in ADS 509, Applied Text Mining. Work through this notebook, writing code and answering questions where required. \n",
    "\n",
    "In a previous assignment you put together Twitter data and lyrics data on two artists. In this assignment we apply sentiment analysis to those data sets. If, for some reason, you did not complete that previous assignment, data to use for this assignment can be found in the assignment materials section of Blackboard. \n"
   ]
  },
  {
   "cell_type": "code",
   "execution_count": 1,
   "id": "e2d096b7",
   "metadata": {
    "id": "e2d096b7",
    "pycharm": {
     "name": "#%%\n"
    }
   },
   "outputs": [],
   "source": [
    "import os\n",
    "import re\n",
    "import emoji\n",
    "import pandas as pd\n",
    "import numpy as np\n",
    "\n",
    "from collections import Counter, defaultdict\n",
    "from string import punctuation\n",
    "\n",
    "from nltk.corpus import stopwords\n",
    "\n",
    "sw = stopwords.words(\"english\")"
   ]
  },
  {
   "cell_type": "code",
   "execution_count": 2,
   "id": "6b555ab2",
   "metadata": {
    "id": "6b555ab2",
    "pycharm": {
     "name": "#%%\n"
    }
   },
   "outputs": [],
   "source": [
    "from nltk.tokenize import word_tokenize\n",
    "def dict_2_df_lexicon_builder(dict_):\n",
    "\n",
    "    df = pd.DataFrame.from_dict(dict_, orient='index').reset_index()\n",
    "    df.rename(columns={'index':'words',\n",
    "                       0:'values'},\n",
    "              inplace=True)\n",
    "    print('Shape', df.shape)\n",
    "    return df"
   ]
  },
  {
   "cell_type": "code",
   "execution_count": 3,
   "id": "923b5a86",
   "metadata": {
    "id": "923b5a86",
    "pycharm": {
     "name": "#%%\n"
    }
   },
   "outputs": [],
   "source": [
    "# change `data_location` to the location of the folder on your machine.\n",
    "data_location = \"/Volumes/GoogleDrive/My Drive/_509/my_M1_data\"\n",
    "\n",
    "# These subfolders should still work if you correctly stored the\n",
    "# data from the Module 1 assignment\n",
    "twitter_folder = \"twitter/\"\n",
    "lyrics_folder = \"lyrics/\"\n",
    "\n",
    "positive_words_file = \"positive-words.txt\"\n",
    "negative_words_file = \"negative-words.txt\"\n",
    "tidy_text_file = \"tidytext_sentiments.txt\""
   ]
  },
  {
   "cell_type": "markdown",
   "id": "9d3bf93e",
   "metadata": {
    "id": "9d3bf93e",
    "pycharm": {
     "name": "#%% md\n"
    }
   },
   "source": [
    "## Data Input\n",
    "\n",
    "Now read in each of the corpora. For the lyrics data, it may be convenient to store the entire contents of the file to make it easier to inspect the titles individually, as you'll do in the last part of the assignment. In the solution, I stored the lyrics data in a dictionary with two dimensions of keys: artist and song. The value was the file contents. A Pandas data frame would work equally well. \n",
    "\n",
    "For the Twitter data, we only need the description field for this assignment. Feel free all the descriptions read it into a data structure. In the solution, I stored the descriptions as a dictionary of lists, with the key being the artist. \n",
    "\n",
    "\n"
   ]
  },
  {
   "cell_type": "code",
   "execution_count": 4,
   "id": "37d70801",
   "metadata": {
    "id": "37d70801",
    "pycharm": {
     "name": "#%%\n"
    }
   },
   "outputs": [],
   "source": [
    "# Read in the lyrics data\n",
    "path_ = data_location + '/lyrics/FFDP/FFDP_song_lyrics_df.csv'\n",
    "ffdp_lyrics = pd.read_csv(path_)\n",
    "\n",
    "# Read in the lyrics data\n",
    "path_ = data_location + '/lyrics/OfficialRezz/OfficialRezz_song_lyrics_df.csv'\n",
    "rezz_lyrics = pd.read_csv(path_)"
   ]
  },
  {
   "cell_type": "code",
   "execution_count": 5,
   "id": "debcac5a",
   "metadata": {
    "id": "debcac5a",
    "pycharm": {
     "name": "#%%\n"
    }
   },
   "outputs": [],
   "source": [
    "# Read in the twitter data\n",
    "path_ = data_location + '/twitter/FFDP_followers_data.txt'\n",
    "ffdp_twitter = pd.read_csv(path_,\n",
    "                           sep=\"\\t\",\n",
    "                           engine='python')\n",
    "\n",
    "path_ = data_location + '/twitter/OfficialRezz_followers_data.txt'\n",
    "rezz_twitter = pd.read_csv(path_,\n",
    "                           sep=\"\\t\",\n",
    "                           engine='python')"
   ]
  },
  {
   "cell_type": "markdown",
   "id": "23c5289b",
   "metadata": {
    "id": "23c5289b",
    "pycharm": {
     "name": "#%% md\n"
    }
   },
   "source": [
    "## Bing Liu Lexicon build\n"
   ]
  },
  {
   "cell_type": "code",
   "execution_count": 6,
   "id": "2f577e06",
   "metadata": {
    "colab": {
     "base_uri": "https://localhost:8080/",
     "height": 225
    },
    "collapsed": false,
    "executionInfo": {
     "elapsed": 586,
     "status": "ok",
     "timestamp": 1666062761882,
     "user": {
      "displayName": "Christopher Richardson",
      "userId": "09766026346975996839"
     },
     "user_tz": 420
    },
    "id": "2f577e06",
    "jupyter": {
     "outputs_hidden": false
    },
    "outputId": "a2d02736-773d-4ea5-d7ad-9893a8aacf24",
    "pycharm": {
     "name": "#%%\n"
    }
   },
   "outputs": [
    {
     "name": "stdout",
     "output_type": "stream",
     "text": [
      "Shape (6786, 2)\n"
     ]
    },
    {
     "data": {
      "text/html": [
       "<div>\n",
       "<style scoped>\n",
       "    .dataframe tbody tr th:only-of-type {\n",
       "        vertical-align: middle;\n",
       "    }\n",
       "\n",
       "    .dataframe tbody tr th {\n",
       "        vertical-align: top;\n",
       "    }\n",
       "\n",
       "    .dataframe thead th {\n",
       "        text-align: right;\n",
       "    }\n",
       "</style>\n",
       "<table border=\"1\" class=\"dataframe\">\n",
       "  <thead>\n",
       "    <tr style=\"text-align: right;\">\n",
       "      <th></th>\n",
       "      <th>words</th>\n",
       "      <th>values</th>\n",
       "    </tr>\n",
       "  </thead>\n",
       "  <tbody>\n",
       "    <tr>\n",
       "      <th>3812</th>\n",
       "      <td>shrug</td>\n",
       "      <td>-1</td>\n",
       "    </tr>\n",
       "    <tr>\n",
       "      <th>3079</th>\n",
       "      <td>obstinate</td>\n",
       "      <td>-1</td>\n",
       "    </tr>\n",
       "    <tr>\n",
       "      <th>564</th>\n",
       "      <td>checkered</td>\n",
       "      <td>-1</td>\n",
       "    </tr>\n",
       "    <tr>\n",
       "      <th>3459</th>\n",
       "      <td>rascal</td>\n",
       "      <td>-1</td>\n",
       "    </tr>\n",
       "    <tr>\n",
       "      <th>932</th>\n",
       "      <td>demeaning</td>\n",
       "      <td>-1</td>\n",
       "    </tr>\n",
       "  </tbody>\n",
       "</table>\n",
       "</div>"
      ],
      "text/plain": [
       "          words  values\n",
       "3812      shrug      -1\n",
       "3079  obstinate      -1\n",
       "564   checkered      -1\n",
       "3459     rascal      -1\n",
       "932   demeaning      -1"
      ]
     },
     "execution_count": 6,
     "metadata": {},
     "output_type": "execute_result"
    }
   ],
   "source": [
    "bing_liu_df = {}\n",
    "word_files = [negative_words_file, positive_words_file]\n",
    "\n",
    "for file_num, file_ in enumerate(word_files):\n",
    "    with open(file_, 'r', encoding=\"ISO-8859-1\") as f:\n",
    "\n",
    "        for idx, line in enumerate(f.readlines()):\n",
    "\n",
    "            if line[:1] != ';' and line != '\\n':\n",
    "\n",
    "                if file_num == 0: # negative_words_file\n",
    "                    bing_liu_df[line[:-1]] = -1\n",
    "                else:\n",
    "                    bing_liu_df[line[:-1]] = +1\n",
    "\n",
    "bing_liu_df = dict_2_df_lexicon_builder(bing_liu_df)\n",
    "bing_liu_df.sample(5)"
   ]
  },
  {
   "cell_type": "markdown",
   "id": "ec4d779e",
   "metadata": {
    "id": "ec4d779e",
    "pycharm": {
     "name": "#%% md\n"
    }
   },
   "source": [
    "## TidyText Lexicon"
   ]
  },
  {
   "cell_type": "code",
   "execution_count": 7,
   "id": "843a89b8",
   "metadata": {
    "colab": {
     "base_uri": "https://localhost:8080/",
     "height": 381
    },
    "collapsed": false,
    "executionInfo": {
     "elapsed": 222,
     "status": "ok",
     "timestamp": 1666062762099,
     "user": {
      "displayName": "Christopher Richardson",
      "userId": "09766026346975996839"
     },
     "user_tz": 420
    },
    "id": "843a89b8",
    "jupyter": {
     "outputs_hidden": false
    },
    "outputId": "11c2f7c0-79e8-4030-c103-f9b938e39031",
    "pycharm": {
     "name": "#%%\n"
    }
   },
   "outputs": [
    {
     "name": "stdout",
     "output_type": "stream",
     "text": [
      "Shape (15133, 3)\n"
     ]
    },
    {
     "data": {
      "text/html": [
       "<div>\n",
       "<style scoped>\n",
       "    .dataframe tbody tr th:only-of-type {\n",
       "        vertical-align: middle;\n",
       "    }\n",
       "\n",
       "    .dataframe tbody tr th {\n",
       "        vertical-align: top;\n",
       "    }\n",
       "\n",
       "    .dataframe thead th {\n",
       "        text-align: right;\n",
       "    }\n",
       "</style>\n",
       "<table border=\"1\" class=\"dataframe\">\n",
       "  <thead>\n",
       "    <tr style=\"text-align: right;\">\n",
       "      <th></th>\n",
       "      <th>word</th>\n",
       "      <th>sentiment</th>\n",
       "      <th>lexicon</th>\n",
       "    </tr>\n",
       "  </thead>\n",
       "  <tbody>\n",
       "    <tr>\n",
       "      <th>6436</th>\n",
       "      <td>caustically</td>\n",
       "      <td>negative</td>\n",
       "      <td>bing</td>\n",
       "    </tr>\n",
       "    <tr>\n",
       "      <th>8993</th>\n",
       "      <td>inexorably</td>\n",
       "      <td>negative</td>\n",
       "      <td>bing</td>\n",
       "    </tr>\n",
       "    <tr>\n",
       "      <th>8115</th>\n",
       "      <td>forebodingly</td>\n",
       "      <td>negative</td>\n",
       "      <td>bing</td>\n",
       "    </tr>\n",
       "    <tr>\n",
       "      <th>11690</th>\n",
       "      <td>thriving</td>\n",
       "      <td>positive</td>\n",
       "      <td>bing</td>\n",
       "    </tr>\n",
       "    <tr>\n",
       "      <th>9077</th>\n",
       "      <td>insecure</td>\n",
       "      <td>negative</td>\n",
       "      <td>bing</td>\n",
       "    </tr>\n",
       "    <tr>\n",
       "      <th>11126</th>\n",
       "      <td>slothful</td>\n",
       "      <td>negative</td>\n",
       "      <td>bing</td>\n",
       "    </tr>\n",
       "    <tr>\n",
       "      <th>13177</th>\n",
       "      <td>displace</td>\n",
       "      <td>negative</td>\n",
       "      <td>loughran</td>\n",
       "    </tr>\n",
       "    <tr>\n",
       "      <th>5663</th>\n",
       "      <td>abundant</td>\n",
       "      <td>positive</td>\n",
       "      <td>bing</td>\n",
       "    </tr>\n",
       "    <tr>\n",
       "      <th>786</th>\n",
       "      <td>charade</td>\n",
       "      <td>negative</td>\n",
       "      <td>nrc</td>\n",
       "    </tr>\n",
       "    <tr>\n",
       "      <th>5634</th>\n",
       "      <td>zest</td>\n",
       "      <td>positive</td>\n",
       "      <td>nrc</td>\n",
       "    </tr>\n",
       "  </tbody>\n",
       "</table>\n",
       "</div>"
      ],
      "text/plain": [
       "               word sentiment   lexicon\n",
       "6436    caustically  negative      bing\n",
       "8993     inexorably  negative      bing\n",
       "8115   forebodingly  negative      bing\n",
       "11690      thriving  positive      bing\n",
       "9077       insecure  negative      bing\n",
       "11126      slothful  negative      bing\n",
       "13177      displace  negative  loughran\n",
       "5663       abundant  positive      bing\n",
       "786         charade  negative       nrc\n",
       "5634           zest  positive       nrc"
      ]
     },
     "execution_count": 7,
     "metadata": {},
     "output_type": "execute_result"
    }
   ],
   "source": [
    "tidytext_df = pd.read_csv(tidy_text_file, sep='\\t')\n",
    "print('Shape', tidytext_df.shape)\n",
    "tidytext_df.sample(10)"
   ]
  },
  {
   "cell_type": "markdown",
   "id": "f464d7c8",
   "metadata": {
    "id": "f464d7c8",
    "pycharm": {
     "name": "#%% md\n"
    }
   },
   "source": [
    "## The Great Lexicon Merge\n",
    "Interestingly TidyText already has Bing Liu lexicon, but I assume the included Bing Lui lexicon is different from the Tidy Text combined lexicon."
   ]
  },
  {
   "cell_type": "code",
   "execution_count": 8,
   "id": "0c24b52a",
   "metadata": {
    "colab": {
     "base_uri": "https://localhost:8080/",
     "height": 381
    },
    "collapsed": false,
    "executionInfo": {
     "elapsed": 1044,
     "status": "ok",
     "timestamp": 1666062763141,
     "user": {
      "displayName": "Christopher Richardson",
      "userId": "09766026346975996839"
     },
     "user_tz": 420
    },
    "id": "0c24b52a",
    "jupyter": {
     "outputs_hidden": false
    },
    "outputId": "1a77e26c-c374-4871-9206-a18348c20408",
    "pycharm": {
     "name": "#%%\n"
    }
   },
   "outputs": [
    {
     "name": "stdout",
     "output_type": "stream",
     "text": [
      "Shape (4622, 2)\n"
     ]
    },
    {
     "data": {
      "text/html": [
       "<div>\n",
       "<style scoped>\n",
       "    .dataframe tbody tr th:only-of-type {\n",
       "        vertical-align: middle;\n",
       "    }\n",
       "\n",
       "    .dataframe tbody tr th {\n",
       "        vertical-align: top;\n",
       "    }\n",
       "\n",
       "    .dataframe thead th {\n",
       "        text-align: right;\n",
       "    }\n",
       "</style>\n",
       "<table border=\"1\" class=\"dataframe\">\n",
       "  <thead>\n",
       "    <tr style=\"text-align: right;\">\n",
       "      <th></th>\n",
       "      <th>words</th>\n",
       "      <th>values</th>\n",
       "    </tr>\n",
       "  </thead>\n",
       "  <tbody>\n",
       "    <tr>\n",
       "      <th>709</th>\n",
       "      <td>cove</td>\n",
       "      <td>1</td>\n",
       "    </tr>\n",
       "    <tr>\n",
       "      <th>2420</th>\n",
       "      <td>represented</td>\n",
       "      <td>1</td>\n",
       "    </tr>\n",
       "    <tr>\n",
       "      <th>1275</th>\n",
       "      <td>ghostly</td>\n",
       "      <td>-1</td>\n",
       "    </tr>\n",
       "    <tr>\n",
       "      <th>4431</th>\n",
       "      <td>unscheduled</td>\n",
       "      <td>-1</td>\n",
       "    </tr>\n",
       "    <tr>\n",
       "      <th>1975</th>\n",
       "      <td>obvious</td>\n",
       "      <td>1</td>\n",
       "    </tr>\n",
       "    <tr>\n",
       "      <th>2542</th>\n",
       "      <td>scientific</td>\n",
       "      <td>1</td>\n",
       "    </tr>\n",
       "    <tr>\n",
       "      <th>4381</th>\n",
       "      <td>underreporting</td>\n",
       "      <td>-1</td>\n",
       "    </tr>\n",
       "    <tr>\n",
       "      <th>2799</th>\n",
       "      <td>sun</td>\n",
       "      <td>1</td>\n",
       "    </tr>\n",
       "    <tr>\n",
       "      <th>3139</th>\n",
       "      <td>wildcat</td>\n",
       "      <td>-1</td>\n",
       "    </tr>\n",
       "    <tr>\n",
       "      <th>133</th>\n",
       "      <td>annul</td>\n",
       "      <td>-1</td>\n",
       "    </tr>\n",
       "  </tbody>\n",
       "</table>\n",
       "</div>"
      ],
      "text/plain": [
       "               words  values\n",
       "709             cove       1\n",
       "2420     represented       1\n",
       "1275         ghostly      -1\n",
       "4431     unscheduled      -1\n",
       "1975         obvious       1\n",
       "2542      scientific       1\n",
       "4381  underreporting      -1\n",
       "2799             sun       1\n",
       "3139         wildcat      -1\n",
       "133            annul      -1"
      ]
     },
     "execution_count": 8,
     "metadata": {},
     "output_type": "execute_result"
    }
   ],
   "source": [
    "bing_liu_words = set(bing_liu_df['words'])\n",
    "\n",
    "combined_df = {}\n",
    "for idx, row in tidytext_df.iterrows():\n",
    "\n",
    "    sentiment_val = row['sentiment']\n",
    "    word = row['word']\n",
    "\n",
    "    if word not in bing_liu_words:\n",
    "        if sentiment_val == 'positive':\n",
    "            combined_df[word] = 1\n",
    "        else:\n",
    "            combined_df[word] = -1\n",
    "\n",
    "combined_df = dict_2_df_lexicon_builder(combined_df)\n",
    "combined_df.sample(10)"
   ]
  },
  {
   "cell_type": "code",
   "execution_count": 9,
   "id": "58bcc090",
   "metadata": {
    "colab": {
     "base_uri": "https://localhost:8080/"
    },
    "collapsed": false,
    "executionInfo": {
     "elapsed": 18,
     "status": "ok",
     "timestamp": 1666062763142,
     "user": {
      "displayName": "Christopher Richardson",
      "userId": "09766026346975996839"
     },
     "user_tz": 420
    },
    "id": "58bcc090",
    "jupyter": {
     "outputs_hidden": false
    },
    "outputId": "56710853-dbe4-4e22-b4a9-0064a1f2e0cd",
    "pycharm": {
     "name": "#%%\n"
    }
   },
   "outputs": [
    {
     "data": {
      "text/plain": [
       "(11408, 2)"
      ]
     },
     "execution_count": 9,
     "metadata": {},
     "output_type": "execute_result"
    }
   ],
   "source": [
    "combined_df = pd.concat([bing_liu_df, combined_df])\n",
    "combined_df.shape"
   ]
  },
  {
   "cell_type": "markdown",
   "id": "b2989e68",
   "metadata": {
    "id": "b2989e68",
    "pycharm": {
     "name": "#%% md\n"
    }
   },
   "source": [
    "Well that is interesting, the original TidyText doc has roughly 5k more records.  Let's see what is going on."
   ]
  },
  {
   "cell_type": "code",
   "execution_count": 10,
   "id": "9b9d9a06",
   "metadata": {
    "colab": {
     "base_uri": "https://localhost:8080/"
    },
    "collapsed": false,
    "executionInfo": {
     "elapsed": 15,
     "status": "ok",
     "timestamp": 1666062763142,
     "user": {
      "displayName": "Christopher Richardson",
      "userId": "09766026346975996839"
     },
     "user_tz": 420
    },
    "id": "9b9d9a06",
    "jupyter": {
     "outputs_hidden": false
    },
    "outputId": "bcbb4396-fe71-4d1e-a1cd-251df263008f",
    "pycharm": {
     "name": "#%%\n"
    }
   },
   "outputs": [
    {
     "data": {
      "text/plain": [
       "abundance     4\n",
       "confess       4\n",
       "unexpected    4\n",
       "malice        3\n",
       "renounce      3\n",
       "Name: word, dtype: int64"
      ]
     },
     "execution_count": 10,
     "metadata": {},
     "output_type": "execute_result"
    }
   ],
   "source": [
    "tidytext_df['word'].value_counts()[:5]"
   ]
  },
  {
   "cell_type": "code",
   "execution_count": 11,
   "id": "141f27b0",
   "metadata": {
    "colab": {
     "base_uri": "https://localhost:8080/",
     "height": 175
    },
    "collapsed": false,
    "executionInfo": {
     "elapsed": 13,
     "status": "ok",
     "timestamp": 1666062763143,
     "user": {
      "displayName": "Christopher Richardson",
      "userId": "09766026346975996839"
     },
     "user_tz": 420
    },
    "id": "141f27b0",
    "jupyter": {
     "outputs_hidden": false
    },
    "outputId": "4e6d8bb7-4a43-49e2-de37-dfbd86674fd1",
    "pycharm": {
     "name": "#%%\n"
    }
   },
   "outputs": [
    {
     "data": {
      "text/html": [
       "<div>\n",
       "<style scoped>\n",
       "    .dataframe tbody tr th:only-of-type {\n",
       "        vertical-align: middle;\n",
       "    }\n",
       "\n",
       "    .dataframe tbody tr th {\n",
       "        vertical-align: top;\n",
       "    }\n",
       "\n",
       "    .dataframe thead th {\n",
       "        text-align: right;\n",
       "    }\n",
       "</style>\n",
       "<table border=\"1\" class=\"dataframe\">\n",
       "  <thead>\n",
       "    <tr style=\"text-align: right;\">\n",
       "      <th></th>\n",
       "      <th>word</th>\n",
       "      <th>sentiment</th>\n",
       "      <th>lexicon</th>\n",
       "    </tr>\n",
       "  </thead>\n",
       "  <tbody>\n",
       "    <tr>\n",
       "      <th>32</th>\n",
       "      <td>abundance</td>\n",
       "      <td>negative</td>\n",
       "      <td>nrc</td>\n",
       "    </tr>\n",
       "    <tr>\n",
       "      <th>33</th>\n",
       "      <td>abundance</td>\n",
       "      <td>positive</td>\n",
       "      <td>nrc</td>\n",
       "    </tr>\n",
       "    <tr>\n",
       "      <th>5662</th>\n",
       "      <td>abundance</td>\n",
       "      <td>positive</td>\n",
       "      <td>bing</td>\n",
       "    </tr>\n",
       "    <tr>\n",
       "      <th>14780</th>\n",
       "      <td>abundance</td>\n",
       "      <td>positive</td>\n",
       "      <td>loughran</td>\n",
       "    </tr>\n",
       "  </tbody>\n",
       "</table>\n",
       "</div>"
      ],
      "text/plain": [
       "            word sentiment   lexicon\n",
       "32     abundance  negative       nrc\n",
       "33     abundance  positive       nrc\n",
       "5662   abundance  positive      bing\n",
       "14780  abundance  positive  loughran"
      ]
     },
     "execution_count": 11,
     "metadata": {},
     "output_type": "execute_result"
    }
   ],
   "source": [
    "tidytext_df[tidytext_df['word'] == 'abundance']"
   ]
  },
  {
   "cell_type": "markdown",
   "id": "7757da78",
   "metadata": {
    "id": "7757da78",
    "pycharm": {
     "name": "#%% md\n"
    }
   },
   "source": [
    "Well that is interesting, NRC has abundance as both negative and positive.\n",
    "\n",
    "We also now see why, TidyText has more records.  Some words are in multiple, if not all lexicons and some lexicons even have a word twice!"
   ]
  },
  {
   "cell_type": "markdown",
   "id": "6a5f3b12",
   "metadata": {
    "id": "6a5f3b12",
    "pycharm": {
     "name": "#%% md\n"
    }
   },
   "source": [
    "# Sentiment Analysis on Songs\n",
    "\n",
    "In this section, score the sentiment for all the songs for both artists in your data set. Score the sentiment by manually calculating the sentiment using the combined lexicons provided in this repository. \n",
    "\n",
    "After you have calculated these sentiments, answer the questions at the end of this section.\n"
   ]
  },
  {
   "cell_type": "code",
   "execution_count": 12,
   "id": "4a0e62b6",
   "metadata": {
    "collapsed": false,
    "id": "4a0e62b6",
    "jupyter": {
     "outputs_hidden": false
    },
    "pycharm": {
     "name": "#%%\n"
    }
   },
   "outputs": [],
   "source": [
    "combined_word_set = set(combined_df['words'])\n",
    "combined_word_dict = dict(zip(combined_df['words'], combined_df['values']))\n",
    "\n",
    "# code below is a modified version of the \"bing_liu_score\" function from BTAP pg. 301\n",
    "def sentiment_scorer(text):\n",
    "    sentiment_score = 0\n",
    "    # tokenize string\n",
    "    bow = word_tokenize(text.lower())\n",
    "    # remove stop words\n",
    "    bow = [word for word in bow if word not in sw]\n",
    "\n",
    "    for word in bow:\n",
    "        if word in combined_word_set:\n",
    "            sentiment_score += combined_word_dict[word]\n",
    "\n",
    "    return round(sentiment_score / len(bow),4)"
   ]
  },
  {
   "cell_type": "markdown",
   "id": "40f9a98d",
   "metadata": {
    "id": "40f9a98d",
    "pycharm": {
     "name": "#%% md\n"
    }
   },
   "source": [
    "## FFDP Sentiment"
   ]
  },
  {
   "cell_type": "code",
   "execution_count": 13,
   "id": "5ac6e5d6",
   "metadata": {
    "colab": {
     "base_uri": "https://localhost:8080/",
     "height": 206
    },
    "collapsed": false,
    "executionInfo": {
     "elapsed": 11,
     "status": "ok",
     "timestamp": 1666062763143,
     "user": {
      "displayName": "Christopher Richardson",
      "userId": "09766026346975996839"
     },
     "user_tz": 420
    },
    "id": "5ac6e5d6",
    "jupyter": {
     "outputs_hidden": false
    },
    "outputId": "18602cd7-3d16-4148-ab41-cfe019aefeee",
    "pycharm": {
     "name": "#%%\n"
    }
   },
   "outputs": [
    {
     "data": {
      "text/html": [
       "<div>\n",
       "<style scoped>\n",
       "    .dataframe tbody tr th:only-of-type {\n",
       "        vertical-align: middle;\n",
       "    }\n",
       "\n",
       "    .dataframe tbody tr th {\n",
       "        vertical-align: top;\n",
       "    }\n",
       "\n",
       "    .dataframe thead th {\n",
       "        text-align: right;\n",
       "    }\n",
       "</style>\n",
       "<table border=\"1\" class=\"dataframe\">\n",
       "  <thead>\n",
       "    <tr style=\"text-align: right;\">\n",
       "      <th></th>\n",
       "      <th>Artist</th>\n",
       "      <th>Title</th>\n",
       "      <th>Lyrics</th>\n",
       "      <th>sentiment_score</th>\n",
       "    </tr>\n",
       "  </thead>\n",
       "  <tbody>\n",
       "    <tr>\n",
       "      <th>19</th>\n",
       "      <td>FFDP</td>\n",
       "      <td>Burn_It_Down</td>\n",
       "      <td>You think you know me? You don't know shit ...</td>\n",
       "      <td>-0.2935</td>\n",
       "    </tr>\n",
       "    <tr>\n",
       "      <th>14</th>\n",
       "      <td>FFDP</td>\n",
       "      <td>Dying_Breed</td>\n",
       "      <td>Round one! I swear to God I'd do it for fun...</td>\n",
       "      <td>-0.0055</td>\n",
       "    </tr>\n",
       "    <tr>\n",
       "      <th>8</th>\n",
       "      <td>FFDP</td>\n",
       "      <td>Death_Before_Dishonor</td>\n",
       "      <td>To the haters, the takers, the liars, all t...</td>\n",
       "      <td>-0.0451</td>\n",
       "    </tr>\n",
       "    <tr>\n",
       "      <th>2</th>\n",
       "      <td>FFDP</td>\n",
       "      <td>Salvation</td>\n",
       "      <td>Disgusted by your weakness You have no righ...</td>\n",
       "      <td>0.0250</td>\n",
       "    </tr>\n",
       "    <tr>\n",
       "      <th>6</th>\n",
       "      <td>FFDP</td>\n",
       "      <td>White_Knuckles</td>\n",
       "      <td>Oh, fuck it all!  Sick of being sick and ti...</td>\n",
       "      <td>-0.1130</td>\n",
       "    </tr>\n",
       "  </tbody>\n",
       "</table>\n",
       "</div>"
      ],
      "text/plain": [
       "   Artist                  Title  \\\n",
       "19   FFDP           Burn_It_Down   \n",
       "14   FFDP            Dying_Breed   \n",
       "8    FFDP  Death_Before_Dishonor   \n",
       "2    FFDP              Salvation   \n",
       "6    FFDP         White_Knuckles   \n",
       "\n",
       "                                               Lyrics  sentiment_score  \n",
       "19     You think you know me? You don't know shit ...          -0.2935  \n",
       "14     Round one! I swear to God I'd do it for fun...          -0.0055  \n",
       "8      To the haters, the takers, the liars, all t...          -0.0451  \n",
       "2      Disgusted by your weakness You have no righ...           0.0250  \n",
       "6      Oh, fuck it all!  Sick of being sick and ti...          -0.1130  "
      ]
     },
     "execution_count": 13,
     "metadata": {},
     "output_type": "execute_result"
    }
   ],
   "source": [
    "ffdp_lyrics['sentiment_score'] = ffdp_lyrics['Lyrics'].apply(sentiment_scorer)\n",
    "ffdp_lyrics.sample(5)"
   ]
  },
  {
   "cell_type": "markdown",
   "id": "ed727f31",
   "metadata": {
    "id": "ed727f31",
    "pycharm": {
     "name": "#%% md\n"
    }
   },
   "source": [
    "## Rezz Sentiment"
   ]
  },
  {
   "cell_type": "code",
   "execution_count": 14,
   "id": "9b58fdaf",
   "metadata": {
    "colab": {
     "base_uri": "https://localhost:8080/",
     "height": 206
    },
    "collapsed": false,
    "executionInfo": {
     "elapsed": 231,
     "status": "ok",
     "timestamp": 1666062763364,
     "user": {
      "displayName": "Christopher Richardson",
      "userId": "09766026346975996839"
     },
     "user_tz": 420
    },
    "id": "9b58fdaf",
    "jupyter": {
     "outputs_hidden": false
    },
    "outputId": "00601161-a17d-490e-b1f6-046cfdb95f33",
    "pycharm": {
     "name": "#%%\n"
    }
   },
   "outputs": [
    {
     "data": {
      "text/html": [
       "<div>\n",
       "<style scoped>\n",
       "    .dataframe tbody tr th:only-of-type {\n",
       "        vertical-align: middle;\n",
       "    }\n",
       "\n",
       "    .dataframe tbody tr th {\n",
       "        vertical-align: top;\n",
       "    }\n",
       "\n",
       "    .dataframe thead th {\n",
       "        text-align: right;\n",
       "    }\n",
       "</style>\n",
       "<table border=\"1\" class=\"dataframe\">\n",
       "  <thead>\n",
       "    <tr style=\"text-align: right;\">\n",
       "      <th></th>\n",
       "      <th>Artist</th>\n",
       "      <th>Title</th>\n",
       "      <th>Lyrics</th>\n",
       "      <th>sentiment_score</th>\n",
       "    </tr>\n",
       "  </thead>\n",
       "  <tbody>\n",
       "    <tr>\n",
       "      <th>7</th>\n",
       "      <td>OfficialRezz</td>\n",
       "      <td>Stress</td>\n",
       "      <td>I know how to undo all the straps that Keep...</td>\n",
       "      <td>-0.2258</td>\n",
       "    </tr>\n",
       "    <tr>\n",
       "      <th>9</th>\n",
       "      <td>OfficialRezz</td>\n",
       "      <td>Lonely</td>\n",
       "      <td>Little pieces come my way You say it's just...</td>\n",
       "      <td>-0.0600</td>\n",
       "    </tr>\n",
       "    <tr>\n",
       "      <th>6</th>\n",
       "      <td>OfficialRezz</td>\n",
       "      <td>Kiss_Of_Death</td>\n",
       "      <td>Kiss of Death Kiss of Death Kiss of Death K...</td>\n",
       "      <td>0.1429</td>\n",
       "    </tr>\n",
       "    <tr>\n",
       "      <th>4</th>\n",
       "      <td>OfficialRezz</td>\n",
       "      <td>Toxin</td>\n",
       "      <td>You're lovely, but looks can kill You're a ...</td>\n",
       "      <td>-0.0581</td>\n",
       "    </tr>\n",
       "    <tr>\n",
       "      <th>12</th>\n",
       "      <td>OfficialRezz</td>\n",
       "      <td>Paper_Walls</td>\n",
       "      <td>And here's my stop, just drop me off And I'...</td>\n",
       "      <td>0.0628</td>\n",
       "    </tr>\n",
       "  </tbody>\n",
       "</table>\n",
       "</div>"
      ],
      "text/plain": [
       "          Artist          Title  \\\n",
       "7   OfficialRezz         Stress   \n",
       "9   OfficialRezz         Lonely   \n",
       "6   OfficialRezz  Kiss_Of_Death   \n",
       "4   OfficialRezz          Toxin   \n",
       "12  OfficialRezz    Paper_Walls   \n",
       "\n",
       "                                               Lyrics  sentiment_score  \n",
       "7      I know how to undo all the straps that Keep...          -0.2258  \n",
       "9      Little pieces come my way You say it's just...          -0.0600  \n",
       "6      Kiss of Death Kiss of Death Kiss of Death K...           0.1429  \n",
       "4      You're lovely, but looks can kill You're a ...          -0.0581  \n",
       "12     And here's my stop, just drop me off And I'...           0.0628  "
      ]
     },
     "execution_count": 14,
     "metadata": {},
     "output_type": "execute_result"
    }
   ],
   "source": [
    "rezz_lyrics['sentiment_score'] = rezz_lyrics['Lyrics'].apply(sentiment_scorer)\n",
    "rezz_lyrics.sample(5)"
   ]
  },
  {
   "cell_type": "markdown",
   "id": "1f8334f4",
   "metadata": {
    "id": "1f8334f4",
    "pycharm": {
     "name": "#%% md\n"
    }
   },
   "source": [
    "## Questions"
   ]
  },
  {
   "cell_type": "markdown",
   "id": "81e44ce4",
   "metadata": {
    "id": "81e44ce4",
    "pycharm": {
     "name": "#%% md\n"
    }
   },
   "source": [
    "### Q1\n",
    "\n",
    "Overall, which artist has the higher average sentiment per song?"
   ]
  },
  {
   "cell_type": "code",
   "execution_count": 15,
   "id": "78dcb53d",
   "metadata": {
    "colab": {
     "base_uri": "https://localhost:8080/"
    },
    "collapsed": false,
    "executionInfo": {
     "elapsed": 196,
     "status": "ok",
     "timestamp": 1666062763558,
     "user": {
      "displayName": "Christopher Richardson",
      "userId": "09766026346975996839"
     },
     "user_tz": 420
    },
    "id": "78dcb53d",
    "jupyter": {
     "outputs_hidden": false
    },
    "outputId": "2598f8eb-ef32-4dc0-8082-51e85a9ad008",
    "pycharm": {
     "name": "#%%\n"
    }
   },
   "outputs": [
    {
     "data": {
      "image/png": "[encoded data removed]",
      "text/plain": [
       "<Figure size 640x480 with 1 Axes>"
      ]
     },
     "metadata": {},
     "output_type": "display_data"
    }
   ],
   "source": [
    "ffdp_lyrics['sentiment_score'].hist();"
   ]
  },
  {
   "cell_type": "code",
   "execution_count": 16,
   "id": "cc581709",
   "metadata": {
    "colab": {
     "base_uri": "https://localhost:8080/"
    },
    "collapsed": false,
    "executionInfo": {
     "elapsed": 6,
     "status": "ok",
     "timestamp": 1666062763559,
     "user": {
      "displayName": "Christopher Richardson",
      "userId": "09766026346975996839"
     },
     "user_tz": 420
    },
    "id": "cc581709",
    "jupyter": {
     "outputs_hidden": false
    },
    "outputId": "aef1457d-b232-4977-9dbf-98943681d882",
    "pycharm": {
     "name": "#%%\n"
    }
   },
   "outputs": [
    {
     "data": {
      "text/plain": [
       "count    20.000000\n",
       "mean     -0.048145\n",
       "std       0.089823\n",
       "min      -0.293500\n",
       "25%      -0.100100\n",
       "50%      -0.010450\n",
       "75%       0.004350\n",
       "max       0.059700\n",
       "Name: sentiment_score, dtype: float64"
      ]
     },
     "execution_count": 16,
     "metadata": {},
     "output_type": "execute_result"
    }
   ],
   "source": [
    "ffdp_lyrics['sentiment_score'].describe()"
   ]
  },
  {
   "cell_type": "code",
   "execution_count": 17,
   "id": "d2520095",
   "metadata": {
    "colab": {
     "base_uri": "https://localhost:8080/"
    },
    "collapsed": false,
    "executionInfo": {
     "elapsed": 165,
     "status": "ok",
     "timestamp": 1666062763720,
     "user": {
      "displayName": "Christopher Richardson",
      "userId": "09766026346975996839"
     },
     "user_tz": 420
    },
    "id": "d2520095",
    "jupyter": {
     "outputs_hidden": false
    },
    "outputId": "66fe0df5-b49a-425d-9f40-97c8cae5442e",
    "pycharm": {
     "name": "#%%\n"
    }
   },
   "outputs": [
    {
     "data": {
      "text/plain": [
       "-0.9629"
      ]
     },
     "execution_count": 17,
     "metadata": {},
     "output_type": "execute_result"
    }
   ],
   "source": [
    "ffdp_lyrics['sentiment_score'].sum()"
   ]
  },
  {
   "cell_type": "code",
   "execution_count": 18,
   "id": "698c048a",
   "metadata": {
    "colab": {
     "base_uri": "https://localhost:8080/"
    },
    "collapsed": false,
    "executionInfo": {
     "elapsed": 201,
     "status": "ok",
     "timestamp": 1666062763919,
     "user": {
      "displayName": "Christopher Richardson",
      "userId": "09766026346975996839"
     },
     "user_tz": 420
    },
    "id": "698c048a",
    "jupyter": {
     "outputs_hidden": false
    },
    "outputId": "b8bc0bc7-3a3a-49af-d860-d021b0ccacbd",
    "pycharm": {
     "name": "#%%\n"
    }
   },
   "outputs": [
    {
     "data": {
      "image/png": "[encoded data removed]",
      "text/plain": [
       "<Figure size 640x480 with 1 Axes>"
      ]
     },
     "metadata": {},
     "output_type": "display_data"
    }
   ],
   "source": [
    "rezz_lyrics['sentiment_score'].hist();"
   ]
  },
  {
   "cell_type": "code",
   "execution_count": 19,
   "id": "a61e6903",
   "metadata": {
    "colab": {
     "base_uri": "https://localhost:8080/"
    },
    "collapsed": false,
    "executionInfo": {
     "elapsed": 8,
     "status": "ok",
     "timestamp": 1666062763920,
     "user": {
      "displayName": "Christopher Richardson",
      "userId": "09766026346975996839"
     },
     "user_tz": 420
    },
    "id": "a61e6903",
    "jupyter": {
     "outputs_hidden": false
    },
    "outputId": "cd451c5f-ce00-4731-85e4-1f840f7158b6",
    "pycharm": {
     "name": "#%%\n"
    }
   },
   "outputs": [
    {
     "data": {
      "text/plain": [
       "-1.0983999999999998"
      ]
     },
     "execution_count": 19,
     "metadata": {},
     "output_type": "execute_result"
    }
   ],
   "source": [
    "rezz_lyrics['sentiment_score'].sum()"
   ]
  },
  {
   "cell_type": "code",
   "execution_count": 20,
   "id": "70a5bb22",
   "metadata": {
    "colab": {
     "base_uri": "https://localhost:8080/"
    },
    "collapsed": false,
    "executionInfo": {
     "elapsed": 7,
     "status": "ok",
     "timestamp": 1666062763920,
     "user": {
      "displayName": "Christopher Richardson",
      "userId": "09766026346975996839"
     },
     "user_tz": 420
    },
    "id": "70a5bb22",
    "jupyter": {
     "outputs_hidden": false
    },
    "outputId": "041d13d7-718b-451d-a926-7471e552fc1f",
    "pycharm": {
     "name": "#%%\n"
    }
   },
   "outputs": [
    {
     "data": {
      "text/plain": [
       "count    20.000000\n",
       "mean     -0.054920\n",
       "std       0.173237\n",
       "min      -0.619000\n",
       "25%      -0.074925\n",
       "50%       0.000000\n",
       "75%       0.000000\n",
       "max       0.187500\n",
       "Name: sentiment_score, dtype: float64"
      ]
     },
     "execution_count": 20,
     "metadata": {},
     "output_type": "execute_result"
    }
   ],
   "source": [
    "rezz_lyrics['sentiment_score'].describe()"
   ]
  },
  {
   "cell_type": "code",
   "execution_count": 21,
   "id": "5a121f60",
   "metadata": {
    "colab": {
     "base_uri": "https://localhost:8080/"
    },
    "collapsed": false,
    "executionInfo": {
     "elapsed": 166,
     "status": "ok",
     "timestamp": 1666062764080,
     "user": {
      "displayName": "Christopher Richardson",
      "userId": "09766026346975996839"
     },
     "user_tz": 420
    },
    "id": "5a121f60",
    "jupyter": {
     "outputs_hidden": false
    },
    "outputId": "c1817316-33ff-4676-b44b-2ad35af55f01",
    "pycharm": {
     "name": "#%%\n"
    }
   },
   "outputs": [
    {
     "data": {
      "text/plain": [
       "-0.04814499999999999"
      ]
     },
     "execution_count": 21,
     "metadata": {},
     "output_type": "execute_result"
    }
   ],
   "source": [
    "ffdp_lyrics['sentiment_score'].mean()"
   ]
  },
  {
   "cell_type": "code",
   "execution_count": 22,
   "id": "9ee5592f",
   "metadata": {
    "colab": {
     "base_uri": "https://localhost:8080/"
    },
    "collapsed": false,
    "executionInfo": {
     "elapsed": 5,
     "status": "ok",
     "timestamp": 1666062764080,
     "user": {
      "displayName": "Christopher Richardson",
      "userId": "09766026346975996839"
     },
     "user_tz": 420
    },
    "id": "9ee5592f",
    "jupyter": {
     "outputs_hidden": false
    },
    "outputId": "ac2da113-76db-4404-835d-9174a66f1845",
    "pycharm": {
     "name": "#%%\n"
    }
   },
   "outputs": [
    {
     "data": {
      "text/plain": [
       "-0.05492000000000001"
      ]
     },
     "execution_count": 22,
     "metadata": {},
     "output_type": "execute_result"
    }
   ],
   "source": [
    "rezz_lyrics['sentiment_score'].mean()"
   ]
  },
  {
   "cell_type": "markdown",
   "id": "add282ee",
   "metadata": {
    "id": "add282ee",
    "pycharm": {
     "name": "#%% md\n"
    }
   },
   "source": [
    "#### A:\n",
    "\n",
    "FFDP has a slightly higher average sentiment.  And after looking at Rezz's sentiment histogram, we clearly see a good proportion of her songs are at the 0 mark.   In general, songs by Rezz have very little words and according to my previous homework, the Rezz (edm producer) lyrics corpus has half the amount of words in comparison to FFDP (metal band).  This lack of word variety within the Rezz corpus is what makes Rezz lyrics have a lower sentiment score.  Especially when a good amount of her songs containing a majority of negative sentiment words such as shown in an answer for Q2.\n",
    "\n",
    "STUDENT QUESTION!!!\n",
    "Would a deeper dive into the actual ratios of positive to negative counts be useful?  If not, what would you do at this point to get better clarification?\n",
    "\n"
   ]
  },
  {
   "cell_type": "markdown",
   "id": "a5532f52",
   "metadata": {
    "id": "a5532f52",
    "pycharm": {
     "name": "#%% md\n"
    }
   },
   "source": [
    "------\n",
    "#### Q2\n",
    "For your first artist, what songs have the highest and lowest sentiments? Print those songs to the screen.\n"
   ]
  },
  {
   "cell_type": "code",
   "execution_count": 23,
   "id": "4b8c7988",
   "metadata": {
    "colab": {
     "base_uri": "https://localhost:8080/"
    },
    "collapsed": false,
    "executionInfo": {
     "elapsed": 5,
     "status": "ok",
     "timestamp": 1666062764081,
     "user": {
      "displayName": "Christopher Richardson",
      "userId": "09766026346975996839"
     },
     "user_tz": 420
    },
    "id": "4b8c7988",
    "jupyter": {
     "outputs_hidden": false
    },
    "outputId": "5161e2bf-e293-4794-890b-00297831b7d1",
    "pycharm": {
     "name": "#%%\n"
    }
   },
   "outputs": [
    {
     "data": {
      "text/plain": [
       "Artist                                                          FFDP\n",
       "Title                                                   Never_Enough\n",
       "Lyrics                I'm so fed up with everyone around me No on...\n",
       "sentiment_score                                               0.0597\n",
       "Name: 12, dtype: object"
      ]
     },
     "execution_count": 23,
     "metadata": {},
     "output_type": "execute_result"
    }
   ],
   "source": [
    "ffdp_lyrics.loc[ffdp_lyrics['sentiment_score'].idxmax(),:]"
   ]
  },
  {
   "cell_type": "code",
   "execution_count": 24,
   "id": "76f65828",
   "metadata": {
    "colab": {
     "base_uri": "https://localhost:8080/"
    },
    "collapsed": false,
    "executionInfo": {
     "elapsed": 5,
     "status": "ok",
     "timestamp": 1666062764081,
     "user": {
      "displayName": "Christopher Richardson",
      "userId": "09766026346975996839"
     },
     "user_tz": 420
    },
    "id": "76f65828",
    "jupyter": {
     "outputs_hidden": false
    },
    "outputId": "421578d2-fa5a-4b9e-e332-6988cadcee48",
    "pycharm": {
     "name": "#%%\n"
    }
   },
   "outputs": [
    {
     "data": {
      "text/plain": [
       "Artist                                                          FFDP\n",
       "Title                                                   Burn_It_Down\n",
       "Lyrics                You think you know me? You don't know shit ...\n",
       "sentiment_score                                              -0.2935\n",
       "Name: 19, dtype: object"
      ]
     },
     "execution_count": 24,
     "metadata": {},
     "output_type": "execute_result"
    }
   ],
   "source": [
    "ffdp_lyrics.loc[ffdp_lyrics['sentiment_score'].idxmin(),:]"
   ]
  },
  {
   "cell_type": "markdown",
   "id": "7cb17e01",
   "metadata": {
    "id": "7cb17e01",
    "pycharm": {
     "name": "#%% md\n"
    }
   },
   "source": [
    "--------\n",
    "#### Q3\n",
    "For your second artist, what songs have the highest and lowest sentiments? Print those songs to the screen.\n"
   ]
  },
  {
   "cell_type": "code",
   "execution_count": 25,
   "id": "206651c8",
   "metadata": {
    "colab": {
     "base_uri": "https://localhost:8080/"
    },
    "collapsed": false,
    "executionInfo": {
     "elapsed": 4,
     "status": "ok",
     "timestamp": 1666062764081,
     "user": {
      "displayName": "Christopher Richardson",
      "userId": "09766026346975996839"
     },
     "user_tz": 420
    },
    "id": "206651c8",
    "jupyter": {
     "outputs_hidden": false
    },
    "outputId": "a65bd4b8-11f8-4c4a-b96c-2ea7dea1e624",
    "pycharm": {
     "name": "#%%\n"
    }
   },
   "outputs": [
    {
     "data": {
      "text/plain": [
       "Artist                                                  OfficialRezz\n",
       "Title                                                          Relax\n",
       "Lyrics                Just take a nice breath in. Exhale the brea...\n",
       "sentiment_score                                               0.1875\n",
       "Name: 2, dtype: object"
      ]
     },
     "execution_count": 25,
     "metadata": {},
     "output_type": "execute_result"
    }
   ],
   "source": [
    "rezz_lyrics.loc[rezz_lyrics['sentiment_score'].idxmax(),:]"
   ]
  },
  {
   "cell_type": "code",
   "execution_count": 26,
   "id": "247983e7",
   "metadata": {
    "colab": {
     "base_uri": "https://localhost:8080/"
    },
    "collapsed": false,
    "executionInfo": {
     "elapsed": 4,
     "status": "ok",
     "timestamp": 1666062764081,
     "user": {
      "displayName": "Christopher Richardson",
      "userId": "09766026346975996839"
     },
     "user_tz": 420
    },
    "id": "247983e7",
    "jupyter": {
     "outputs_hidden": false
    },
    "outputId": "fcc17d70-5848-441e-ada8-abf5935230c0",
    "pycharm": {
     "name": "#%%\n"
    }
   },
   "outputs": [
    {
     "data": {
      "text/plain": [
       "Artist                                                  OfficialRezz\n",
       "Title                                                   Life_&_Death\n",
       "Lyrics                Life and Death Death Death  Life Death Life...\n",
       "sentiment_score                                               -0.619\n",
       "Name: 3, dtype: object"
      ]
     },
     "execution_count": 26,
     "metadata": {},
     "output_type": "execute_result"
    }
   ],
   "source": [
    "rezz_lyrics.loc[rezz_lyrics['sentiment_score'].idxmin(),:]"
   ]
  },
  {
   "cell_type": "markdown",
   "id": "d43cdde2",
   "metadata": {
    "id": "d43cdde2",
    "pycharm": {
     "name": "#%% md\n"
    }
   },
   "source": [
    "------\n",
    "#### Q4\n",
    "Plot the distributions of the sentiment scores for both artists. You can use `seaborn` to plot densities or plot histograms in matplotlib.\n",
    "\n"
   ]
  },
  {
   "cell_type": "code",
   "execution_count": 27,
   "id": "50f4c366",
   "metadata": {
    "colab": {
     "base_uri": "https://localhost:8080/"
    },
    "collapsed": false,
    "executionInfo": {
     "elapsed": 189,
     "status": "ok",
     "timestamp": 1666062764267,
     "user": {
      "displayName": "Christopher Richardson",
      "userId": "09766026346975996839"
     },
     "user_tz": 420
    },
    "id": "50f4c366",
    "jupyter": {
     "outputs_hidden": false
    },
    "outputId": "419c16db-64e5-4453-8d54-905d91cf7bcd",
    "pycharm": {
     "name": "#%%\n"
    }
   },
   "outputs": [
    {
     "data": {
      "image/png": "[encoded data removed]",
      "text/plain": [
       "<Figure size 640x480 with 1 Axes>"
      ]
     },
     "metadata": {},
     "output_type": "display_data"
    }
   ],
   "source": [
    "ffdp_lyrics['sentiment_score'].hist();"
   ]
  },
  {
   "cell_type": "code",
   "execution_count": 28,
   "id": "db2f4cf3",
   "metadata": {
    "colab": {
     "base_uri": "https://localhost:8080/"
    },
    "collapsed": false,
    "executionInfo": {
     "elapsed": 310,
     "status": "ok",
     "timestamp": 1666062764575,
     "user": {
      "displayName": "Christopher Richardson",
      "userId": "09766026346975996839"
     },
     "user_tz": 420
    },
    "id": "db2f4cf3",
    "jupyter": {
     "outputs_hidden": false
    },
    "outputId": "f4e411b4-1509-4ce6-ce1f-4b41282b8c23",
    "pycharm": {
     "name": "#%%\n"
    }
   },
   "outputs": [
    {
     "data": {
      "image/png": "[encoded data removed]",
      "text/plain": [
       "<Figure size 640x480 with 1 Axes>"
      ]
     },
     "metadata": {},
     "output_type": "display_data"
    }
   ],
   "source": [
    "rezz_lyrics['sentiment_score'].hist();"
   ]
  },
  {
   "cell_type": "markdown",
   "id": "b3fe644d",
   "metadata": {
    "id": "b3fe644d",
    "pycharm": {
     "name": "#%% md\n"
    }
   },
   "source": [
    "# Sentiment Analysis on Twitter Descriptions\n",
    "\n",
    "In this section, define two sets of emojis you designate as positive and negative. Make sure to have at least 10 emojis per set. You can learn about the most popular emojis on Twitter at [the emojitracker](https://emojitracker.com/). \n",
    "\n",
    "Associate your positive emojis with a score of +1, negative with -1. Score the average sentiment of your two artists based on the Twitter descriptions of their followers. The average sentiment can just be the total score divided by number of followers. "
   ]
  },
  {
   "cell_type": "code",
   "execution_count": 29,
   "id": "1a5c1d25",
   "metadata": {
    "id": "1a5c1d25",
    "pycharm": {
     "name": "#%%\n"
    }
   },
   "outputs": [],
   "source": [
    "neg = [':angry_face:',\n",
    "        ':backhand_index_pointing_up:',\n",
    "        ':black_heart:',\n",
    "        ':broken_heart:',\n",
    "        ':dissapointed_relieved:',\n",
    "        ':exploding_head:',\n",
    "        ':expressionless_face:',\n",
    "        ':face_exhaling:',\n",
    "        ':grimacing_face:',\n",
    "        ':middle_finger:',\n",
    "        ':pensive_face:',\n",
    "        ':sob:',\n",
    "        ':worried_face:']\n",
    "\n",
    "pos = [':beating_heart:',\n",
    "       ':beaming_face_with_smiling_eyes:',\n",
    "       ':blue_heart:',\n",
    "       ':clapping_hands:',\n",
    "       ':face_blowing_a_kiss:',\n",
    "       ':face_with_tears_of_joy:',\n",
    "       ':fire:',\n",
    "       ':fireworks:',\n",
    "       ':folded_hands:',\n",
    "       ':green_heart:',\n",
    "       ':growing_heart:',\n",
    "       ':heart_hands:',\n",
    "       ':heart_suit:',\n",
    "       ':kissing_face:',\n",
    "       ':light_bulb:',\n",
    "       ':love-you_gesture:',\n",
    "       ':no_entry:',\n",
    "       ':purple_heart:',\n",
    "       ':red_heart:',\n",
    "       ':revolving_hearts:',\n",
    "       ':smiling_face_with_sunglasses:',\n",
    "       ':sparkling_heart:',\n",
    "       ':sun:',\n",
    "       ':two_hearts:',\n",
    "       ':white_heart:',\n",
    "       ':winking_face:',\n",
    "       ':yellow_heart:']\n",
    "\n",
    "sentiments = [neg, pos]\n",
    "\n",
    "emoji_sentiment_dict = {}\n",
    "for num, sentiment_type in enumerate(sentiments):\n",
    "    for emoji_short_hand in sentiment_type:\n",
    "\n",
    "        if num == 0:\n",
    "            emoji_sentiment_dict[emoji_short_hand] = -1\n",
    "        else:\n",
    "            emoji_sentiment_dict[emoji_short_hand] = 1"
   ]
  },
  {
   "cell_type": "markdown",
   "id": "fb92eb93",
   "metadata": {
    "id": "fb92eb93",
    "pycharm": {
     "name": "#%% md\n"
    }
   },
   "source": [
    "## Q1\n",
    "What is the average sentiment of your two artists?\n",
    "\n"
   ]
  },
  {
   "cell_type": "code",
   "execution_count": 30,
   "id": "d20cf47a",
   "metadata": {
    "collapsed": false,
    "id": "d20cf47a",
    "jupyter": {
     "outputs_hidden": false
    },
    "pycharm": {
     "name": "#%%\n"
    }
   },
   "outputs": [],
   "source": [
    "def emoji_sentiment_scorer(text):\n",
    "    '''Returns 0 if there is no Emojis in text'''\n",
    "    sentiment_score = 0\n",
    "    emoji_count = emoji.emoji_count(text)\n",
    "\n",
    "    if emoji_count > 0:\n",
    "        emoji_series = pd.DataFrame(emoji.emoji_list(text))['emoji']\n",
    "\n",
    "        emoji_text_list = []\n",
    "        for emoji_graphic in emoji_series:\n",
    "            emoji_short_hand = emoji.demojize(emoji_graphic)\n",
    "            emoji_text_list.append(emoji_short_hand)\n",
    "\n",
    "        for emoji_short_hand in emoji_text_list:\n",
    "            try:\n",
    "                sentiment_score += emoji_sentiment_dict[emoji_short_hand]\n",
    "            except:\n",
    "                '''Some emojis are able to be both + or - dependent on context\n",
    "                 & thus are given a 0. I.e. \"pleading face\".'''\n",
    "                pass\n",
    "\n",
    "        sentiment_score = sentiment_score / len(emoji_text_list)\n",
    "        sentiment_score = round(sentiment_score, 4)\n",
    "    return sentiment_score\n"
   ]
  },
  {
   "cell_type": "code",
   "execution_count": 31,
   "id": "f50674be",
   "metadata": {
    "collapsed": false,
    "id": "f50674be",
    "jupyter": {
     "outputs_hidden": false
    },
    "pycharm": {
     "name": "#%%\n"
    }
   },
   "outputs": [],
   "source": [
    "# remove any row with NaN values\n",
    "ffdp_twitter = ffdp_twitter.dropna().reset_index(drop=True)\n",
    "\n",
    "rezz_twitter = rezz_twitter.dropna().reset_index(drop=True)"
   ]
  },
  {
   "cell_type": "code",
   "execution_count": 32,
   "id": "8c205d83",
   "metadata": {
    "colab": {
     "base_uri": "https://localhost:8080/"
    },
    "collapsed": false,
    "executionInfo": {
     "elapsed": 6855,
     "status": "ok",
     "timestamp": 1666062771930,
     "user": {
      "displayName": "Christopher Richardson",
      "userId": "09766026346975996839"
     },
     "user_tz": 420
    },
    "id": "8c205d83",
    "jupyter": {
     "outputs_hidden": false
    },
    "outputId": "2da36c3c-dd67-45ad-b584-ec633a542cdb",
    "pycharm": {
     "name": "#%%\n"
    }
   },
   "outputs": [
    {
     "name": "stdout",
     "output_type": "stream",
     "text": [
      "FFDP's average sentiment is 0.03897\n"
     ]
    }
   ],
   "source": [
    "ffdp_twitter['Sentiment'] = ffdp_twitter['Description'].apply(emoji_sentiment_scorer)\n",
    "ffdp_sentiment = round(ffdp_twitter['Sentiment'].mean(),5)\n",
    "print(f\"FFDP's average sentiment is {ffdp_sentiment}\")"
   ]
  },
  {
   "cell_type": "code",
   "execution_count": 33,
   "id": "eb92d26b",
   "metadata": {
    "colab": {
     "base_uri": "https://localhost:8080/"
    },
    "collapsed": false,
    "executionInfo": {
     "elapsed": 12996,
     "status": "ok",
     "timestamp": 1666062784924,
     "user": {
      "displayName": "Christopher Richardson",
      "userId": "09766026346975996839"
     },
     "user_tz": 420
    },
    "id": "eb92d26b",
    "jupyter": {
     "outputs_hidden": false
    },
    "outputId": "b92e91eb-8f43-434b-90b5-5bc40dfb3b6a",
    "pycharm": {
     "name": "#%%\n"
    }
   },
   "outputs": [
    {
     "name": "stdout",
     "output_type": "stream",
     "text": [
      "FFDP's average sentiment is 0.0407\n"
     ]
    }
   ],
   "source": [
    "rezz_twitter['Sentiment'] = rezz_twitter['Description'].apply(emoji_sentiment_scorer)\n",
    "rezz_sentiment = round(rezz_twitter['Sentiment'].mean(),5)\n",
    "print(f\"FFDP's average sentiment is {rezz_sentiment}\")"
   ]
  },
  {
   "cell_type": "markdown",
   "id": "269f720e",
   "metadata": {
    "id": "269f720e",
    "pycharm": {
     "name": "#%% md\n"
    }
   },
   "source": [
    "## Q2\n",
    "Which positive emoji is the most popular for each artist? Which negative emoji?"
   ]
  },
  {
   "cell_type": "code",
   "execution_count": 36,
   "id": "fY5dY7x5uLa2",
   "metadata": {
    "id": "fY5dY7x5uLa2",
    "pycharm": {
     "name": "#%%\n"
    }
   },
   "outputs": [],
   "source": [
    "\n",
    "def top_emojis(artist_twitter_df):\n",
    "  '''\n",
    "    Returns top 10 positive emojis.  \n",
    "    If positive=False, return top 10 negative emojis.\n",
    "  '''\n",
    "  emojis_list = []\n",
    "\n",
    "  for idx, row in artist_twitter_df.iterrows():\n",
    "      text = row['Description']\n",
    "      emoji_count = emoji.emoji_count(text)\n",
    "\n",
    "      if emoji_count > 0:\n",
    "          emo_series = pd.DataFrame(emoji.emoji_list(text))\n",
    "          emojis_list.extend(emo_series['emoji'])\n",
    "\n",
    "  df = pd.DataFrame.from_dict(Counter(emojis_list), orient='index')\n",
    "  df.reset_index(inplace=True)\n",
    "  df.rename(columns={'index':'emoji',0:'count'},\n",
    "              inplace=True)\n",
    "\n",
    "  df['shorthand'] = df['emoji'].apply(emoji.demojize)\n",
    "\n",
    "  def shorthand_sentiment_value(shorthand_text):\n",
    "      try:\n",
    "        row_emoji = emoji.demojize(shorthand_text)\n",
    "        sentiment_val = emoji_sentiment_dict[row_emoji]\n",
    "      except:\n",
    "        sentiment_val = np.nan\n",
    "\n",
    "      return sentiment_val\n",
    "\n",
    "  df['sentiment_val'] = df['shorthand'].apply(shorthand_sentiment_value)\n",
    "  df = df.dropna()\n",
    "  df = df.sort_values('count',ascending=False)\n",
    "  df.reset_index(drop=True, inplace=True)\n",
    "\n",
    "  return df\n",
    "\n",
    "def top(top_emoji_df, positive=True, num=10):\n",
    "  if positive:\n",
    "     top_emoji_df = top_emoji_df[top_emoji_df['sentiment_val'] == 1].sort_values('count', ascending=False)\n",
    "     top_emoji_df = top_emoji_df.reset_index(drop=True)\n",
    "  else:\n",
    "    top_emoji_df = top_emoji_df[top_emoji_df['sentiment_val'] == -1].sort_values('count', ascending=False)\n",
    "    top_emoji_df = top_emoji_df.reset_index(drop=True)\n",
    "\n",
    "  return top_emoji_df.head(num)"
   ]
  },
  {
   "cell_type": "markdown",
   "id": "nRSkctdnFeGb",
   "metadata": {
    "id": "nRSkctdnFeGb",
    "pycharm": {
     "name": "#%% md\n"
    }
   },
   "source": [
    "### Rezz Top Emojis"
   ]
  },
  {
   "cell_type": "code",
   "execution_count": 37,
   "id": "GgU1JtOQzE3T",
   "metadata": {
    "colab": {
     "base_uri": "https://localhost:8080/",
     "height": 363
    },
    "executionInfo": {
     "elapsed": 15122,
     "status": "ok",
     "timestamp": 1666063214619,
     "user": {
      "displayName": "Christopher Richardson",
      "userId": "09766026346975996839"
     },
     "user_tz": 420
    },
    "id": "GgU1JtOQzE3T",
    "outputId": "4b33e889-622d-4c69-f3fc-fb24b80dbc9f",
    "pycharm": {
     "name": "#%%\n"
    }
   },
   "outputs": [
    {
     "data": {
      "text/html": [
       "<div>\n",
       "<style scoped>\n",
       "    .dataframe tbody tr th:only-of-type {\n",
       "        vertical-align: middle;\n",
       "    }\n",
       "\n",
       "    .dataframe tbody tr th {\n",
       "        vertical-align: top;\n",
       "    }\n",
       "\n",
       "    .dataframe thead th {\n",
       "        text-align: right;\n",
       "    }\n",
       "</style>\n",
       "<table border=\"1\" class=\"dataframe\">\n",
       "  <thead>\n",
       "    <tr style=\"text-align: right;\">\n",
       "      <th></th>\n",
       "      <th>emoji</th>\n",
       "      <th>count</th>\n",
       "      <th>shorthand</th>\n",
       "      <th>sentiment_val</th>\n",
       "    </tr>\n",
       "  </thead>\n",
       "  <tbody>\n",
       "    <tr>\n",
       "      <th>0</th>\n",
       "      <td>🖤</td>\n",
       "      <td>920</td>\n",
       "      <td>:black_heart:</td>\n",
       "      <td>-1.0</td>\n",
       "    </tr>\n",
       "    <tr>\n",
       "      <th>1</th>\n",
       "      <td>❤️</td>\n",
       "      <td>826</td>\n",
       "      <td>:red_heart:</td>\n",
       "      <td>1.0</td>\n",
       "    </tr>\n",
       "    <tr>\n",
       "      <th>2</th>\n",
       "      <td>💜</td>\n",
       "      <td>661</td>\n",
       "      <td>:purple_heart:</td>\n",
       "      <td>1.0</td>\n",
       "    </tr>\n",
       "    <tr>\n",
       "      <th>3</th>\n",
       "      <td>🔥</td>\n",
       "      <td>540</td>\n",
       "      <td>:fire:</td>\n",
       "      <td>1.0</td>\n",
       "    </tr>\n",
       "    <tr>\n",
       "      <th>4</th>\n",
       "      <td>💙</td>\n",
       "      <td>529</td>\n",
       "      <td>:blue_heart:</td>\n",
       "      <td>1.0</td>\n",
       "    </tr>\n",
       "    <tr>\n",
       "      <th>5</th>\n",
       "      <td>💕</td>\n",
       "      <td>409</td>\n",
       "      <td>:two_hearts:</td>\n",
       "      <td>1.0</td>\n",
       "    </tr>\n",
       "    <tr>\n",
       "      <th>6</th>\n",
       "      <td>🤍</td>\n",
       "      <td>381</td>\n",
       "      <td>:white_heart:</td>\n",
       "      <td>1.0</td>\n",
       "    </tr>\n",
       "    <tr>\n",
       "      <th>7</th>\n",
       "      <td>💚</td>\n",
       "      <td>335</td>\n",
       "      <td>:green_heart:</td>\n",
       "      <td>1.0</td>\n",
       "    </tr>\n",
       "    <tr>\n",
       "      <th>8</th>\n",
       "      <td>☀️</td>\n",
       "      <td>318</td>\n",
       "      <td>:sun:</td>\n",
       "      <td>1.0</td>\n",
       "    </tr>\n",
       "    <tr>\n",
       "      <th>9</th>\n",
       "      <td>💖</td>\n",
       "      <td>299</td>\n",
       "      <td>:sparkling_heart:</td>\n",
       "      <td>1.0</td>\n",
       "    </tr>\n",
       "  </tbody>\n",
       "</table>\n",
       "</div>"
      ],
      "text/plain": [
       "  emoji  count          shorthand  sentiment_val\n",
       "0     🖤    920      :black_heart:           -1.0\n",
       "1    ❤️    826        :red_heart:            1.0\n",
       "2     💜    661     :purple_heart:            1.0\n",
       "3     🔥    540             :fire:            1.0\n",
       "4     💙    529       :blue_heart:            1.0\n",
       "5     💕    409       :two_hearts:            1.0\n",
       "6     🤍    381      :white_heart:            1.0\n",
       "7     💚    335      :green_heart:            1.0\n",
       "8    ☀️    318              :sun:            1.0\n",
       "9     💖    299  :sparkling_heart:            1.0"
      ]
     },
     "execution_count": 37,
     "metadata": {},
     "output_type": "execute_result"
    }
   ],
   "source": [
    "rezz_top_emojis = top_emojis(rezz_twitter)\n",
    "rezz_top_emojis.head(10)"
   ]
  },
  {
   "cell_type": "markdown",
   "id": "za8vBXjoFxzf",
   "metadata": {
    "id": "za8vBXjoFxzf",
    "pycharm": {
     "name": "#%% md\n"
    }
   },
   "source": [
    "### Rezz Top 10 Positive Emojis"
   ]
  },
  {
   "cell_type": "code",
   "execution_count": 38,
   "id": "e9sWgAz_0KR0",
   "metadata": {
    "colab": {
     "base_uri": "https://localhost:8080/",
     "height": 363
    },
    "executionInfo": {
     "elapsed": 186,
     "status": "ok",
     "timestamp": 1666063218524,
     "user": {
      "displayName": "Christopher Richardson",
      "userId": "09766026346975996839"
     },
     "user_tz": 420
    },
    "id": "e9sWgAz_0KR0",
    "outputId": "33a2c13f-a19b-4b4d-b19f-5f1df745833c",
    "pycharm": {
     "name": "#%%\n"
    }
   },
   "outputs": [
    {
     "data": {
      "text/html": [
       "<div>\n",
       "<style scoped>\n",
       "    .dataframe tbody tr th:only-of-type {\n",
       "        vertical-align: middle;\n",
       "    }\n",
       "\n",
       "    .dataframe tbody tr th {\n",
       "        vertical-align: top;\n",
       "    }\n",
       "\n",
       "    .dataframe thead th {\n",
       "        text-align: right;\n",
       "    }\n",
       "</style>\n",
       "<table border=\"1\" class=\"dataframe\">\n",
       "  <thead>\n",
       "    <tr style=\"text-align: right;\">\n",
       "      <th></th>\n",
       "      <th>emoji</th>\n",
       "      <th>count</th>\n",
       "      <th>shorthand</th>\n",
       "      <th>sentiment_val</th>\n",
       "    </tr>\n",
       "  </thead>\n",
       "  <tbody>\n",
       "    <tr>\n",
       "      <th>0</th>\n",
       "      <td>❤️</td>\n",
       "      <td>826</td>\n",
       "      <td>:red_heart:</td>\n",
       "      <td>1.0</td>\n",
       "    </tr>\n",
       "    <tr>\n",
       "      <th>1</th>\n",
       "      <td>💜</td>\n",
       "      <td>661</td>\n",
       "      <td>:purple_heart:</td>\n",
       "      <td>1.0</td>\n",
       "    </tr>\n",
       "    <tr>\n",
       "      <th>2</th>\n",
       "      <td>🔥</td>\n",
       "      <td>540</td>\n",
       "      <td>:fire:</td>\n",
       "      <td>1.0</td>\n",
       "    </tr>\n",
       "    <tr>\n",
       "      <th>3</th>\n",
       "      <td>💙</td>\n",
       "      <td>529</td>\n",
       "      <td>:blue_heart:</td>\n",
       "      <td>1.0</td>\n",
       "    </tr>\n",
       "    <tr>\n",
       "      <th>4</th>\n",
       "      <td>💕</td>\n",
       "      <td>409</td>\n",
       "      <td>:two_hearts:</td>\n",
       "      <td>1.0</td>\n",
       "    </tr>\n",
       "    <tr>\n",
       "      <th>5</th>\n",
       "      <td>🤍</td>\n",
       "      <td>381</td>\n",
       "      <td>:white_heart:</td>\n",
       "      <td>1.0</td>\n",
       "    </tr>\n",
       "    <tr>\n",
       "      <th>6</th>\n",
       "      <td>💚</td>\n",
       "      <td>335</td>\n",
       "      <td>:green_heart:</td>\n",
       "      <td>1.0</td>\n",
       "    </tr>\n",
       "    <tr>\n",
       "      <th>7</th>\n",
       "      <td>☀️</td>\n",
       "      <td>318</td>\n",
       "      <td>:sun:</td>\n",
       "      <td>1.0</td>\n",
       "    </tr>\n",
       "    <tr>\n",
       "      <th>8</th>\n",
       "      <td>💖</td>\n",
       "      <td>299</td>\n",
       "      <td>:sparkling_heart:</td>\n",
       "      <td>1.0</td>\n",
       "    </tr>\n",
       "    <tr>\n",
       "      <th>9</th>\n",
       "      <td>💛</td>\n",
       "      <td>289</td>\n",
       "      <td>:yellow_heart:</td>\n",
       "      <td>1.0</td>\n",
       "    </tr>\n",
       "  </tbody>\n",
       "</table>\n",
       "</div>"
      ],
      "text/plain": [
       "  emoji  count          shorthand  sentiment_val\n",
       "0    ❤️    826        :red_heart:            1.0\n",
       "1     💜    661     :purple_heart:            1.0\n",
       "2     🔥    540             :fire:            1.0\n",
       "3     💙    529       :blue_heart:            1.0\n",
       "4     💕    409       :two_hearts:            1.0\n",
       "5     🤍    381      :white_heart:            1.0\n",
       "6     💚    335      :green_heart:            1.0\n",
       "7    ☀️    318              :sun:            1.0\n",
       "8     💖    299  :sparkling_heart:            1.0\n",
       "9     💛    289     :yellow_heart:            1.0"
      ]
     },
     "execution_count": 38,
     "metadata": {},
     "output_type": "execute_result"
    }
   ],
   "source": [
    "rezz_top_pos = top(rezz_top_emojis, positive=True)\n",
    "rezz_top_pos_emojis = rezz_top_pos['emoji']\n",
    "rezz_top_pos"
   ]
  },
  {
   "cell_type": "markdown",
   "id": "GUjsfox_F0wZ",
   "metadata": {
    "id": "GUjsfox_F0wZ",
    "pycharm": {
     "name": "#%% md\n"
    }
   },
   "source": [
    "### Rezz Top 10 Negative Emojis"
   ]
  },
  {
   "cell_type": "code",
   "execution_count": 39,
   "id": "zME-FqY2F4IK",
   "metadata": {
    "colab": {
     "base_uri": "https://localhost:8080/",
     "height": 331
    },
    "executionInfo": {
     "elapsed": 151,
     "status": "ok",
     "timestamp": 1666063258824,
     "user": {
      "displayName": "Christopher Richardson",
      "userId": "09766026346975996839"
     },
     "user_tz": 420
    },
    "id": "zME-FqY2F4IK",
    "outputId": "84e483ee-3d71-4628-8c0d-55d9ca4f7ca5",
    "pycharm": {
     "name": "#%%\n"
    }
   },
   "outputs": [
    {
     "data": {
      "text/html": [
       "<div>\n",
       "<style scoped>\n",
       "    .dataframe tbody tr th:only-of-type {\n",
       "        vertical-align: middle;\n",
       "    }\n",
       "\n",
       "    .dataframe tbody tr th {\n",
       "        vertical-align: top;\n",
       "    }\n",
       "\n",
       "    .dataframe thead th {\n",
       "        text-align: right;\n",
       "    }\n",
       "</style>\n",
       "<table border=\"1\" class=\"dataframe\">\n",
       "  <thead>\n",
       "    <tr style=\"text-align: right;\">\n",
       "      <th></th>\n",
       "      <th>emoji</th>\n",
       "      <th>count</th>\n",
       "      <th>shorthand</th>\n",
       "      <th>sentiment_val</th>\n",
       "    </tr>\n",
       "  </thead>\n",
       "  <tbody>\n",
       "    <tr>\n",
       "      <th>0</th>\n",
       "      <td>🖤</td>\n",
       "      <td>920</td>\n",
       "      <td>:black_heart:</td>\n",
       "      <td>-1.0</td>\n",
       "    </tr>\n",
       "    <tr>\n",
       "      <th>1</th>\n",
       "      <td>💔</td>\n",
       "      <td>75</td>\n",
       "      <td>:broken_heart:</td>\n",
       "      <td>-1.0</td>\n",
       "    </tr>\n",
       "    <tr>\n",
       "      <th>2</th>\n",
       "      <td>🤯</td>\n",
       "      <td>34</td>\n",
       "      <td>:exploding_head:</td>\n",
       "      <td>-1.0</td>\n",
       "    </tr>\n",
       "    <tr>\n",
       "      <th>3</th>\n",
       "      <td>🖕</td>\n",
       "      <td>20</td>\n",
       "      <td>:middle_finger:</td>\n",
       "      <td>-1.0</td>\n",
       "    </tr>\n",
       "    <tr>\n",
       "      <th>4</th>\n",
       "      <td>😔</td>\n",
       "      <td>19</td>\n",
       "      <td>:pensive_face:</td>\n",
       "      <td>-1.0</td>\n",
       "    </tr>\n",
       "    <tr>\n",
       "      <th>5</th>\n",
       "      <td>😬</td>\n",
       "      <td>12</td>\n",
       "      <td>:grimacing_face:</td>\n",
       "      <td>-1.0</td>\n",
       "    </tr>\n",
       "    <tr>\n",
       "      <th>6</th>\n",
       "      <td>😮‍💨</td>\n",
       "      <td>9</td>\n",
       "      <td>:face_exhaling:</td>\n",
       "      <td>-1.0</td>\n",
       "    </tr>\n",
       "    <tr>\n",
       "      <th>7</th>\n",
       "      <td>👆</td>\n",
       "      <td>9</td>\n",
       "      <td>:backhand_index_pointing_up:</td>\n",
       "      <td>-1.0</td>\n",
       "    </tr>\n",
       "    <tr>\n",
       "      <th>8</th>\n",
       "      <td>😑</td>\n",
       "      <td>4</td>\n",
       "      <td>:expressionless_face:</td>\n",
       "      <td>-1.0</td>\n",
       "    </tr>\n",
       "  </tbody>\n",
       "</table>\n",
       "</div>"
      ],
      "text/plain": [
       "  emoji  count                     shorthand  sentiment_val\n",
       "0     🖤    920                 :black_heart:           -1.0\n",
       "1     💔     75                :broken_heart:           -1.0\n",
       "2     🤯     34              :exploding_head:           -1.0\n",
       "3     🖕     20               :middle_finger:           -1.0\n",
       "4     😔     19                :pensive_face:           -1.0\n",
       "5     😬     12              :grimacing_face:           -1.0\n",
       "6   😮‍💨      9               :face_exhaling:           -1.0\n",
       "7     👆      9  :backhand_index_pointing_up:           -1.0\n",
       "8     😑      4         :expressionless_face:           -1.0"
      ]
     },
     "execution_count": 39,
     "metadata": {},
     "output_type": "execute_result"
    }
   ],
   "source": [
    "rezz_top_neg = top(rezz_top_emojis, positive=False)\n",
    "rezz_top_neg_emojis = rezz_top_neg['emoji']\n",
    "rezz_top_neg"
   ]
  },
  {
   "cell_type": "markdown",
   "id": "A-9hEvPcF5zt",
   "metadata": {
    "id": "A-9hEvPcF5zt",
    "pycharm": {
     "name": "#%% md\n"
    }
   },
   "source": [
    "----------\n",
    "### FFDP Top Emojis"
   ]
  },
  {
   "cell_type": "code",
   "execution_count": 40,
   "id": "3wVK86pYzYaW",
   "metadata": {
    "colab": {
     "base_uri": "https://localhost:8080/",
     "height": 363
    },
    "executionInfo": {
     "elapsed": 10513,
     "status": "ok",
     "timestamp": 1666063276805,
     "user": {
      "displayName": "Christopher Richardson",
      "userId": "09766026346975996839"
     },
     "user_tz": 420
    },
    "id": "3wVK86pYzYaW",
    "outputId": "9ad582ef-14b2-409a-996f-3c053542037f",
    "pycharm": {
     "name": "#%%\n"
    }
   },
   "outputs": [
    {
     "data": {
      "text/html": [
       "<div>\n",
       "<style scoped>\n",
       "    .dataframe tbody tr th:only-of-type {\n",
       "        vertical-align: middle;\n",
       "    }\n",
       "\n",
       "    .dataframe tbody tr th {\n",
       "        vertical-align: top;\n",
       "    }\n",
       "\n",
       "    .dataframe thead th {\n",
       "        text-align: right;\n",
       "    }\n",
       "</style>\n",
       "<table border=\"1\" class=\"dataframe\">\n",
       "  <thead>\n",
       "    <tr style=\"text-align: right;\">\n",
       "      <th></th>\n",
       "      <th>emoji</th>\n",
       "      <th>count</th>\n",
       "      <th>shorthand</th>\n",
       "      <th>sentiment_val</th>\n",
       "    </tr>\n",
       "  </thead>\n",
       "  <tbody>\n",
       "    <tr>\n",
       "      <th>0</th>\n",
       "      <td>🖤</td>\n",
       "      <td>897</td>\n",
       "      <td>:black_heart:</td>\n",
       "      <td>-1.0</td>\n",
       "    </tr>\n",
       "    <tr>\n",
       "      <th>1</th>\n",
       "      <td>❤️</td>\n",
       "      <td>718</td>\n",
       "      <td>:red_heart:</td>\n",
       "      <td>1.0</td>\n",
       "    </tr>\n",
       "    <tr>\n",
       "      <th>2</th>\n",
       "      <td>💙</td>\n",
       "      <td>476</td>\n",
       "      <td>:blue_heart:</td>\n",
       "      <td>1.0</td>\n",
       "    </tr>\n",
       "    <tr>\n",
       "      <th>3</th>\n",
       "      <td>❤</td>\n",
       "      <td>413</td>\n",
       "      <td>:red_heart:</td>\n",
       "      <td>1.0</td>\n",
       "    </tr>\n",
       "    <tr>\n",
       "      <th>4</th>\n",
       "      <td>💜</td>\n",
       "      <td>407</td>\n",
       "      <td>:purple_heart:</td>\n",
       "      <td>1.0</td>\n",
       "    </tr>\n",
       "    <tr>\n",
       "      <th>5</th>\n",
       "      <td>🔥</td>\n",
       "      <td>292</td>\n",
       "      <td>:fire:</td>\n",
       "      <td>1.0</td>\n",
       "    </tr>\n",
       "    <tr>\n",
       "      <th>6</th>\n",
       "      <td>🤍</td>\n",
       "      <td>251</td>\n",
       "      <td>:white_heart:</td>\n",
       "      <td>1.0</td>\n",
       "    </tr>\n",
       "    <tr>\n",
       "      <th>7</th>\n",
       "      <td>💚</td>\n",
       "      <td>233</td>\n",
       "      <td>:green_heart:</td>\n",
       "      <td>1.0</td>\n",
       "    </tr>\n",
       "    <tr>\n",
       "      <th>8</th>\n",
       "      <td>💕</td>\n",
       "      <td>212</td>\n",
       "      <td>:two_hearts:</td>\n",
       "      <td>1.0</td>\n",
       "    </tr>\n",
       "    <tr>\n",
       "      <th>9</th>\n",
       "      <td>😎</td>\n",
       "      <td>195</td>\n",
       "      <td>:smiling_face_with_sunglasses:</td>\n",
       "      <td>1.0</td>\n",
       "    </tr>\n",
       "  </tbody>\n",
       "</table>\n",
       "</div>"
      ],
      "text/plain": [
       "  emoji  count                       shorthand  sentiment_val\n",
       "0     🖤    897                   :black_heart:           -1.0\n",
       "1    ❤️    718                     :red_heart:            1.0\n",
       "2     💙    476                    :blue_heart:            1.0\n",
       "3     ❤    413                     :red_heart:            1.0\n",
       "4     💜    407                  :purple_heart:            1.0\n",
       "5     🔥    292                          :fire:            1.0\n",
       "6     🤍    251                   :white_heart:            1.0\n",
       "7     💚    233                   :green_heart:            1.0\n",
       "8     💕    212                    :two_hearts:            1.0\n",
       "9     😎    195  :smiling_face_with_sunglasses:            1.0"
      ]
     },
     "execution_count": 40,
     "metadata": {},
     "output_type": "execute_result"
    }
   ],
   "source": [
    "ffdp_top_emojis = top_emojis(ffdp_twitter)\n",
    "ffdp_top_emojis.head(10)"
   ]
  },
  {
   "cell_type": "markdown",
   "id": "J17tGR2mF9dr",
   "metadata": {
    "id": "J17tGR2mF9dr",
    "pycharm": {
     "name": "#%% md\n"
    }
   },
   "source": [
    "### FFDP Top 10 Positive"
   ]
  },
  {
   "cell_type": "code",
   "execution_count": 41,
   "id": "r-JX1aj7zhDP",
   "metadata": {
    "colab": {
     "base_uri": "https://localhost:8080/",
     "height": 363
    },
    "executionInfo": {
     "elapsed": 169,
     "status": "ok",
     "timestamp": 1666063286292,
     "user": {
      "displayName": "Christopher Richardson",
      "userId": "09766026346975996839"
     },
     "user_tz": 420
    },
    "id": "r-JX1aj7zhDP",
    "outputId": "04c1b593-46e2-4999-c2a9-c5380ab2239f",
    "pycharm": {
     "name": "#%%\n"
    }
   },
   "outputs": [
    {
     "data": {
      "text/html": [
       "<div>\n",
       "<style scoped>\n",
       "    .dataframe tbody tr th:only-of-type {\n",
       "        vertical-align: middle;\n",
       "    }\n",
       "\n",
       "    .dataframe tbody tr th {\n",
       "        vertical-align: top;\n",
       "    }\n",
       "\n",
       "    .dataframe thead th {\n",
       "        text-align: right;\n",
       "    }\n",
       "</style>\n",
       "<table border=\"1\" class=\"dataframe\">\n",
       "  <thead>\n",
       "    <tr style=\"text-align: right;\">\n",
       "      <th></th>\n",
       "      <th>emoji</th>\n",
       "      <th>count</th>\n",
       "      <th>shorthand</th>\n",
       "      <th>sentiment_val</th>\n",
       "    </tr>\n",
       "  </thead>\n",
       "  <tbody>\n",
       "    <tr>\n",
       "      <th>0</th>\n",
       "      <td>❤️</td>\n",
       "      <td>718</td>\n",
       "      <td>:red_heart:</td>\n",
       "      <td>1.0</td>\n",
       "    </tr>\n",
       "    <tr>\n",
       "      <th>1</th>\n",
       "      <td>💙</td>\n",
       "      <td>476</td>\n",
       "      <td>:blue_heart:</td>\n",
       "      <td>1.0</td>\n",
       "    </tr>\n",
       "    <tr>\n",
       "      <th>2</th>\n",
       "      <td>❤</td>\n",
       "      <td>413</td>\n",
       "      <td>:red_heart:</td>\n",
       "      <td>1.0</td>\n",
       "    </tr>\n",
       "    <tr>\n",
       "      <th>3</th>\n",
       "      <td>💜</td>\n",
       "      <td>407</td>\n",
       "      <td>:purple_heart:</td>\n",
       "      <td>1.0</td>\n",
       "    </tr>\n",
       "    <tr>\n",
       "      <th>4</th>\n",
       "      <td>🔥</td>\n",
       "      <td>292</td>\n",
       "      <td>:fire:</td>\n",
       "      <td>1.0</td>\n",
       "    </tr>\n",
       "    <tr>\n",
       "      <th>5</th>\n",
       "      <td>🤍</td>\n",
       "      <td>251</td>\n",
       "      <td>:white_heart:</td>\n",
       "      <td>1.0</td>\n",
       "    </tr>\n",
       "    <tr>\n",
       "      <th>6</th>\n",
       "      <td>💚</td>\n",
       "      <td>233</td>\n",
       "      <td>:green_heart:</td>\n",
       "      <td>1.0</td>\n",
       "    </tr>\n",
       "    <tr>\n",
       "      <th>7</th>\n",
       "      <td>💕</td>\n",
       "      <td>212</td>\n",
       "      <td>:two_hearts:</td>\n",
       "      <td>1.0</td>\n",
       "    </tr>\n",
       "    <tr>\n",
       "      <th>8</th>\n",
       "      <td>😎</td>\n",
       "      <td>195</td>\n",
       "      <td>:smiling_face_with_sunglasses:</td>\n",
       "      <td>1.0</td>\n",
       "    </tr>\n",
       "    <tr>\n",
       "      <th>9</th>\n",
       "      <td>💛</td>\n",
       "      <td>170</td>\n",
       "      <td>:yellow_heart:</td>\n",
       "      <td>1.0</td>\n",
       "    </tr>\n",
       "  </tbody>\n",
       "</table>\n",
       "</div>"
      ],
      "text/plain": [
       "  emoji  count                       shorthand  sentiment_val\n",
       "0    ❤️    718                     :red_heart:            1.0\n",
       "1     💙    476                    :blue_heart:            1.0\n",
       "2     ❤    413                     :red_heart:            1.0\n",
       "3     💜    407                  :purple_heart:            1.0\n",
       "4     🔥    292                          :fire:            1.0\n",
       "5     🤍    251                   :white_heart:            1.0\n",
       "6     💚    233                   :green_heart:            1.0\n",
       "7     💕    212                    :two_hearts:            1.0\n",
       "8     😎    195  :smiling_face_with_sunglasses:            1.0\n",
       "9     💛    170                  :yellow_heart:            1.0"
      ]
     },
     "execution_count": 41,
     "metadata": {},
     "output_type": "execute_result"
    }
   ],
   "source": [
    "ffdp_top_pos = top(ffdp_top_emojis, positive=True)\n",
    "ffdp_top_pos_emojis = ffdp_top_pos['emoji']\n",
    "ffdp_top_pos"
   ]
  },
  {
   "cell_type": "markdown",
   "id": "IEEK_8OjHDRk",
   "metadata": {
    "id": "IEEK_8OjHDRk",
    "pycharm": {
     "name": "#%% md\n"
    }
   },
   "source": [
    "### FFDP Top 10 Negative"
   ]
  },
  {
   "cell_type": "code",
   "execution_count": 42,
   "id": "q-M3ZRfx0T6d",
   "metadata": {
    "colab": {
     "base_uri": "https://localhost:8080/",
     "height": 363
    },
    "executionInfo": {
     "elapsed": 167,
     "status": "ok",
     "timestamp": 1666063291669,
     "user": {
      "displayName": "Christopher Richardson",
      "userId": "09766026346975996839"
     },
     "user_tz": 420
    },
    "id": "q-M3ZRfx0T6d",
    "outputId": "172eccce-09d5-4ed2-b6c7-a1cfd47e3e2a",
    "pycharm": {
     "name": "#%%\n"
    }
   },
   "outputs": [
    {
     "data": {
      "text/html": [
       "<div>\n",
       "<style scoped>\n",
       "    .dataframe tbody tr th:only-of-type {\n",
       "        vertical-align: middle;\n",
       "    }\n",
       "\n",
       "    .dataframe tbody tr th {\n",
       "        vertical-align: top;\n",
       "    }\n",
       "\n",
       "    .dataframe thead th {\n",
       "        text-align: right;\n",
       "    }\n",
       "</style>\n",
       "<table border=\"1\" class=\"dataframe\">\n",
       "  <thead>\n",
       "    <tr style=\"text-align: right;\">\n",
       "      <th></th>\n",
       "      <th>emoji</th>\n",
       "      <th>count</th>\n",
       "      <th>shorthand</th>\n",
       "      <th>sentiment_val</th>\n",
       "    </tr>\n",
       "  </thead>\n",
       "  <tbody>\n",
       "    <tr>\n",
       "      <th>0</th>\n",
       "      <td>🖤</td>\n",
       "      <td>897</td>\n",
       "      <td>:black_heart:</td>\n",
       "      <td>-1.0</td>\n",
       "    </tr>\n",
       "    <tr>\n",
       "      <th>1</th>\n",
       "      <td>💔</td>\n",
       "      <td>53</td>\n",
       "      <td>:broken_heart:</td>\n",
       "      <td>-1.0</td>\n",
       "    </tr>\n",
       "    <tr>\n",
       "      <th>2</th>\n",
       "      <td>🖕</td>\n",
       "      <td>51</td>\n",
       "      <td>:middle_finger:</td>\n",
       "      <td>-1.0</td>\n",
       "    </tr>\n",
       "    <tr>\n",
       "      <th>3</th>\n",
       "      <td>😬</td>\n",
       "      <td>13</td>\n",
       "      <td>:grimacing_face:</td>\n",
       "      <td>-1.0</td>\n",
       "    </tr>\n",
       "    <tr>\n",
       "      <th>4</th>\n",
       "      <td>😔</td>\n",
       "      <td>9</td>\n",
       "      <td>:pensive_face:</td>\n",
       "      <td>-1.0</td>\n",
       "    </tr>\n",
       "    <tr>\n",
       "      <th>5</th>\n",
       "      <td>🤯</td>\n",
       "      <td>7</td>\n",
       "      <td>:exploding_head:</td>\n",
       "      <td>-1.0</td>\n",
       "    </tr>\n",
       "    <tr>\n",
       "      <th>6</th>\n",
       "      <td>😑</td>\n",
       "      <td>5</td>\n",
       "      <td>:expressionless_face:</td>\n",
       "      <td>-1.0</td>\n",
       "    </tr>\n",
       "    <tr>\n",
       "      <th>7</th>\n",
       "      <td>👆</td>\n",
       "      <td>3</td>\n",
       "      <td>:backhand_index_pointing_up:</td>\n",
       "      <td>-1.0</td>\n",
       "    </tr>\n",
       "    <tr>\n",
       "      <th>8</th>\n",
       "      <td>😮‍💨</td>\n",
       "      <td>3</td>\n",
       "      <td>:face_exhaling:</td>\n",
       "      <td>-1.0</td>\n",
       "    </tr>\n",
       "    <tr>\n",
       "      <th>9</th>\n",
       "      <td>😠</td>\n",
       "      <td>1</td>\n",
       "      <td>:angry_face:</td>\n",
       "      <td>-1.0</td>\n",
       "    </tr>\n",
       "  </tbody>\n",
       "</table>\n",
       "</div>"
      ],
      "text/plain": [
       "  emoji  count                     shorthand  sentiment_val\n",
       "0     🖤    897                 :black_heart:           -1.0\n",
       "1     💔     53                :broken_heart:           -1.0\n",
       "2     🖕     51               :middle_finger:           -1.0\n",
       "3     😬     13              :grimacing_face:           -1.0\n",
       "4     😔      9                :pensive_face:           -1.0\n",
       "5     🤯      7              :exploding_head:           -1.0\n",
       "6     😑      5         :expressionless_face:           -1.0\n",
       "7     👆      3  :backhand_index_pointing_up:           -1.0\n",
       "8   😮‍💨      3               :face_exhaling:           -1.0\n",
       "9     😠      1                  :angry_face:           -1.0"
      ]
     },
     "execution_count": 42,
     "metadata": {},
     "output_type": "execute_result"
    }
   ],
   "source": [
    "ffdp_top_neg = top(ffdp_top_emojis, positive=False)\n",
    "ffdp_top_neg_emojis = ffdp_top_neg['emoji']\n",
    "ffdp_top_neg"
   ]
  },
  {
   "cell_type": "markdown",
   "id": "45a8b53d",
   "metadata": {
    "pycharm": {
     "name": "#%% md\n"
    }
   },
   "source": [
    "##### Top Positive Emojis for both Artist"
   ]
  },
  {
   "cell_type": "code",
   "execution_count": 43,
   "id": "2302e0b1-7575-4aa8-9837-437cf6c83925",
   "metadata": {
    "pycharm": {
     "name": "#%%\n"
    }
   },
   "outputs": [
    {
     "data": {
      "text/html": [
       "<div>\n",
       "<style scoped>\n",
       "    .dataframe tbody tr th:only-of-type {\n",
       "        vertical-align: middle;\n",
       "    }\n",
       "\n",
       "    .dataframe tbody tr th {\n",
       "        vertical-align: top;\n",
       "    }\n",
       "\n",
       "    .dataframe thead th {\n",
       "        text-align: right;\n",
       "    }\n",
       "</style>\n",
       "<table border=\"1\" class=\"dataframe\">\n",
       "  <thead>\n",
       "    <tr style=\"text-align: right;\">\n",
       "      <th></th>\n",
       "      <th>emoji_ffdp</th>\n",
       "      <th>emoji_rezz</th>\n",
       "    </tr>\n",
       "  </thead>\n",
       "  <tbody>\n",
       "    <tr>\n",
       "      <th>0</th>\n",
       "      <td>❤️</td>\n",
       "      <td>❤️</td>\n",
       "    </tr>\n",
       "    <tr>\n",
       "      <th>1</th>\n",
       "      <td>💙</td>\n",
       "      <td>💜</td>\n",
       "    </tr>\n",
       "    <tr>\n",
       "      <th>2</th>\n",
       "      <td>❤</td>\n",
       "      <td>🔥</td>\n",
       "    </tr>\n",
       "    <tr>\n",
       "      <th>3</th>\n",
       "      <td>💜</td>\n",
       "      <td>💙</td>\n",
       "    </tr>\n",
       "    <tr>\n",
       "      <th>4</th>\n",
       "      <td>🔥</td>\n",
       "      <td>💕</td>\n",
       "    </tr>\n",
       "    <tr>\n",
       "      <th>5</th>\n",
       "      <td>🤍</td>\n",
       "      <td>🤍</td>\n",
       "    </tr>\n",
       "    <tr>\n",
       "      <th>6</th>\n",
       "      <td>💚</td>\n",
       "      <td>💚</td>\n",
       "    </tr>\n",
       "    <tr>\n",
       "      <th>7</th>\n",
       "      <td>💕</td>\n",
       "      <td>☀️</td>\n",
       "    </tr>\n",
       "    <tr>\n",
       "      <th>8</th>\n",
       "      <td>😎</td>\n",
       "      <td>💖</td>\n",
       "    </tr>\n",
       "    <tr>\n",
       "      <th>9</th>\n",
       "      <td>💛</td>\n",
       "      <td>💛</td>\n",
       "    </tr>\n",
       "  </tbody>\n",
       "</table>\n",
       "</div>"
      ],
      "text/plain": [
       "  emoji_ffdp emoji_rezz\n",
       "0         ❤️         ❤️\n",
       "1          💙          💜\n",
       "2          ❤          🔥\n",
       "3          💜          💙\n",
       "4          🔥          💕\n",
       "5          🤍          🤍\n",
       "6          💚          💚\n",
       "7          💕         ☀️\n",
       "8          😎          💖\n",
       "9          💛          💛"
      ]
     },
     "execution_count": 43,
     "metadata": {},
     "output_type": "execute_result"
    }
   ],
   "source": [
    "ffdp_top_pos_emojis.to_frame().merge(rezz_top_pos_emojis,\n",
    "                                     left_index=True, \n",
    "                                     right_index=True,\n",
    "                                     suffixes=('_ffdp','_rezz'))"
   ]
  },
  {
   "cell_type": "markdown",
   "id": "b69b0d5d-5288-44c7-a56e-abd64aa186ae",
   "metadata": {
    "pycharm": {
     "name": "#%% md\n"
    }
   },
   "source": [
    "Looking at index 8, we can see FFDP fans think they are pretty cool while Rezz fans love the sun.  Other than those two differences, it appears both fan bases love their various hearts."
   ]
  },
  {
   "cell_type": "markdown",
   "id": "77f4d59f-f1a4-4456-82da-8bc4098e831c",
   "metadata": {
    "pycharm": {
     "name": "#%% md\n"
    }
   },
   "source": [
    "##### Top Negative Emojis for both Artist"
   ]
  },
  {
   "cell_type": "code",
   "execution_count": 44,
   "id": "f2a54f5e-9f2c-4428-9a33-163cd77d2a52",
   "metadata": {
    "pycharm": {
     "name": "#%%\n"
    }
   },
   "outputs": [
    {
     "data": {
      "text/html": [
       "<div>\n",
       "<style scoped>\n",
       "    .dataframe tbody tr th:only-of-type {\n",
       "        vertical-align: middle;\n",
       "    }\n",
       "\n",
       "    .dataframe tbody tr th {\n",
       "        vertical-align: top;\n",
       "    }\n",
       "\n",
       "    .dataframe thead th {\n",
       "        text-align: right;\n",
       "    }\n",
       "</style>\n",
       "<table border=\"1\" class=\"dataframe\">\n",
       "  <thead>\n",
       "    <tr style=\"text-align: right;\">\n",
       "      <th></th>\n",
       "      <th>emoji_ffdp</th>\n",
       "      <th>emoji_rezz</th>\n",
       "    </tr>\n",
       "  </thead>\n",
       "  <tbody>\n",
       "    <tr>\n",
       "      <th>0</th>\n",
       "      <td>🖤</td>\n",
       "      <td>🖤</td>\n",
       "    </tr>\n",
       "    <tr>\n",
       "      <th>1</th>\n",
       "      <td>💔</td>\n",
       "      <td>💔</td>\n",
       "    </tr>\n",
       "    <tr>\n",
       "      <th>2</th>\n",
       "      <td>🖕</td>\n",
       "      <td>🤯</td>\n",
       "    </tr>\n",
       "    <tr>\n",
       "      <th>3</th>\n",
       "      <td>😬</td>\n",
       "      <td>🖕</td>\n",
       "    </tr>\n",
       "    <tr>\n",
       "      <th>4</th>\n",
       "      <td>😔</td>\n",
       "      <td>😔</td>\n",
       "    </tr>\n",
       "    <tr>\n",
       "      <th>5</th>\n",
       "      <td>🤯</td>\n",
       "      <td>😬</td>\n",
       "    </tr>\n",
       "    <tr>\n",
       "      <th>6</th>\n",
       "      <td>😑</td>\n",
       "      <td>😮‍💨</td>\n",
       "    </tr>\n",
       "    <tr>\n",
       "      <th>7</th>\n",
       "      <td>👆</td>\n",
       "      <td>👆</td>\n",
       "    </tr>\n",
       "    <tr>\n",
       "      <th>8</th>\n",
       "      <td>😮‍💨</td>\n",
       "      <td>😑</td>\n",
       "    </tr>\n",
       "  </tbody>\n",
       "</table>\n",
       "</div>"
      ],
      "text/plain": [
       "  emoji_ffdp emoji_rezz\n",
       "0          🖤          🖤\n",
       "1          💔          💔\n",
       "2          🖕          🤯\n",
       "3          😬          🖕\n",
       "4          😔          😔\n",
       "5          🤯          😬\n",
       "6          😑        😮‍💨\n",
       "7          👆          👆\n",
       "8        😮‍💨          😑"
      ]
     },
     "execution_count": 44,
     "metadata": {},
     "output_type": "execute_result"
    }
   ],
   "source": [
    "ffdp_top_neg_emojis.to_frame().merge(rezz_top_neg_emojis,\n",
    "                                     left_index=True, \n",
    "                                     right_index=True,\n",
    "                                     suffixes=('_ffdp','_rezz'))"
   ]
  },
  {
   "cell_type": "markdown",
   "id": "90Mn9XPM0VUC",
   "metadata": {
    "id": "90Mn9XPM0VUC",
    "pycharm": {
     "name": "#%% md\n"
    }
   },
   "source": [
    "Interesting to see the top emojis for both artist are the same in both the positive and negative light. Then again the amount of negative emojis in my lexicon is only 13 with 26 positive emojis.\n",
    "\n"
   ]
  },
  {
   "cell_type": "markdown",
   "id": "vBOW3p76JjkR",
   "metadata": {
    "id": "vBOW3p76JjkR",
    "pycharm": {
     "name": "#%% md\n"
    }
   },
   "source": [
    "# References\n",
    "---------\n",
    "Minqing Hu and Bing Liu. \"Mining and Summarizing Customer Reviews.\" <br>\n",
    "&nbsp;&nbsp;&nbsp;Proceedings of the ACM SIGKDD International Conference on Knowledge <br>\n",
    "&nbsp;&nbsp;&nbsp;Discovery and Data Mining (KDD-2004), Aug 22-25, 2004, Seattle, <br>\n",
    "&nbsp;&nbsp;&nbsp;Washington, USA, "
   ]
  }
 ],
 "metadata": {
  "colab": {
   "collapsed_sections": [
    "81e44ce4",
    "add282ee",
    "a5532f52",
    "7cb17e01",
    "d43cdde2"
   ],
   "provenance": [
    {
     "file_id": "1D-oFtVBWx37mcWpmQshPtClozGZfCMtQ",
     "timestamp": 1666064277197
    }
   ],
   "toc_visible": true
  },
  "kernelspec": {
   "display_name": "Python 3 (ipykernel)",
   "language": "python",
   "name": "python3"
  },
  "language_info": {
   "codemirror_mode": {
    "name": "ipython",
    "version": 3
   },
   "file_extension": ".py",
   "mimetype": "text/x-python",
   "name": "python",
   "nbconvert_exporter": "python",
   "pygments_lexer": "ipython3",
   "version": "3.9.13"
  }
 },
 "nbformat": 4,
 "nbformat_minor": 5
}
