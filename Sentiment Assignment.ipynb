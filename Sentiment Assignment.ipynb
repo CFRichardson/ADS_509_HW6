{
 "cells": [
  {
   "cell_type": "markdown",
   "id": "7f79baf9",
   "metadata": {
    "pycharm": {
     "name": "#%% md\n"
    }
   },
   "source": [
    "# ADS 509 Sentiment Assignment\n",
    "\n",
    "This notebook holds the Sentiment Assignment for Module 6 in ADS 509, Applied Text Mining. Work through this notebook, writing code and answering questions where required. \n",
    "\n",
    "In a previous assignment you put together Twitter data and lyrics data on two artists. In this assignment we apply sentiment analysis to those data sets. If, for some reason, you did not complete that previous assignment, data to use for this assignment can be found in the assignment materials section of Blackboard. \n"
   ]
  },
  {
   "cell_type": "code",
   "execution_count": 80,
   "id": "e2d096b7",
   "metadata": {
    "pycharm": {
     "name": "#%%\n"
    }
   },
   "outputs": [],
   "source": [
    "import os\n",
    "import re\n",
    "import emoji\n",
    "import pandas as pd\n",
    "import numpy as np\n",
    "\n",
    "from collections import Counter, defaultdict\n",
    "from string import punctuation\n",
    "\n",
    "from nltk.corpus import stopwords\n",
    "\n",
    "sw = stopwords.words(\"english\")"
   ]
  },
  {
   "cell_type": "code",
   "execution_count": 2,
   "id": "6b555ab2",
   "metadata": {
    "pycharm": {
     "name": "#%%\n"
    }
   },
   "outputs": [],
   "source": [
    "from nltk.tokenize import word_tokenize\n",
    "def dict_2_df_lexicon_builder(dict_):\n",
    "\n",
    "    df = pd.DataFrame.from_dict(dict_, orient='index').reset_index()\n",
    "    df.rename(columns={'index':'words',\n",
    "                       0:'values'},\n",
    "              inplace=True)\n",
    "    print('Shape', df.shape)\n",
    "    return df"
   ]
  },
  {
   "cell_type": "code",
   "execution_count": 3,
   "id": "923b5a86",
   "metadata": {
    "pycharm": {
     "name": "#%%\n"
    }
   },
   "outputs": [],
   "source": [
    "# change `data_location` to the location of the folder on your machine.\n",
    "data_location = \"/Volumes/GoogleDrive/My Drive/_509/my_M1_data\"\n",
    "\n",
    "# These subfolders should still work if you correctly stored the\n",
    "# data from the Module 1 assignment\n",
    "twitter_folder = \"twitter/\"\n",
    "lyrics_folder = \"lyrics/\"\n",
    "\n",
    "positive_words_file = \"positive-words.txt\"\n",
    "negative_words_file = \"negative-words.txt\"\n",
    "tidy_text_file = \"tidytext_sentiments.txt\""
   ]
  },
  {
   "cell_type": "markdown",
   "id": "9d3bf93e",
   "metadata": {
    "pycharm": {
     "name": "#%% md\n"
    }
   },
   "source": [
    "## Data Input\n",
    "\n",
    "Now read in each of the corpora. For the lyrics data, it may be convenient to store the entire contents of the file to make it easier to inspect the titles individually, as you'll do in the last part of the assignment. In the solution, I stored the lyrics data in a dictionary with two dimensions of keys: artist and song. The value was the file contents. A Pandas data frame would work equally well. \n",
    "\n",
    "For the Twitter data, we only need the description field for this assignment. Feel free all the descriptions read it into a data structure. In the solution, I stored the descriptions as a dictionary of lists, with the key being the artist. \n",
    "\n",
    "\n"
   ]
  },
  {
   "cell_type": "code",
   "execution_count": 4,
   "id": "37d70801",
   "metadata": {
    "pycharm": {
     "name": "#%%\n"
    }
   },
   "outputs": [],
   "source": [
    "# Read in the lyrics data\n",
    "path_ = data_location + '/lyrics/FFDP/FFDP_song_lyrics_df.csv'\n",
    "ffdp_lyrics = pd.read_csv(path_)\n",
    "\n",
    "# Read in the lyrics data\n",
    "path_ = data_location + '/lyrics/OfficialRezz/OfficialRezz_song_lyrics_df.csv'\n",
    "rezz_lyrics = pd.read_csv(path_)"
   ]
  },
  {
   "cell_type": "code",
   "execution_count": 5,
   "id": "debcac5a",
   "metadata": {
    "pycharm": {
     "name": "#%%\n"
    }
   },
   "outputs": [],
   "source": [
    "# Read in the twitter data\n",
    "path_ = data_location + '/twitter/FFDP_followers_data.txt'\n",
    "ffdp_twitter = pd.read_csv(path_,\n",
    "                           sep=\"\\t\",\n",
    "                           engine='python')\n",
    "\n",
    "path_ = data_location + '/twitter/OfficialRezz_followers_data.txt'\n",
    "rezz_twitter = pd.read_csv(path_,\n",
    "                           sep=\"\\t\",\n",
    "                           engine='python')"
   ]
  },
  {
   "cell_type": "markdown",
   "source": [
    "## Bing Liu Lexicon build\n"
   ],
   "metadata": {
    "collapsed": false,
    "pycharm": {
     "name": "#%% md\n"
    }
   }
  },
  {
   "cell_type": "code",
   "execution_count": 6,
   "outputs": [
    {
     "name": "stdout",
     "output_type": "stream",
     "text": [
      "Shape (6786, 2)\n"
     ]
    },
    {
     "data": {
      "text/plain": "             words  values\n3277     pessimism      -1\n2007  heavy-handed      -1\n4598   upsettingly      -1\n522   carelessness      -1\n5147       correct       1",
      "text/html": "<div>\n<style scoped>\n    .dataframe tbody tr th:only-of-type {\n        vertical-align: middle;\n    }\n\n    .dataframe tbody tr th {\n        vertical-align: top;\n    }\n\n    .dataframe thead th {\n        text-align: right;\n    }\n</style>\n<table border=\"1\" class=\"dataframe\">\n  <thead>\n    <tr style=\"text-align: right;\">\n      <th></th>\n      <th>words</th>\n      <th>values</th>\n    </tr>\n  </thead>\n  <tbody>\n    <tr>\n      <th>3277</th>\n      <td>pessimism</td>\n      <td>-1</td>\n    </tr>\n    <tr>\n      <th>2007</th>\n      <td>heavy-handed</td>\n      <td>-1</td>\n    </tr>\n    <tr>\n      <th>4598</th>\n      <td>upsettingly</td>\n      <td>-1</td>\n    </tr>\n    <tr>\n      <th>522</th>\n      <td>carelessness</td>\n      <td>-1</td>\n    </tr>\n    <tr>\n      <th>5147</th>\n      <td>correct</td>\n      <td>1</td>\n    </tr>\n  </tbody>\n</table>\n</div>"
     },
     "execution_count": 6,
     "metadata": {},
     "output_type": "execute_result"
    }
   ],
   "source": [
    "bing_liu_df = {}\n",
    "word_files = [negative_words_file, positive_words_file]\n",
    "\n",
    "for file_num, file_ in enumerate(word_files):\n",
    "    with open(file_, 'r', encoding=\"ISO-8859-1\") as f:\n",
    "\n",
    "        for idx, line in enumerate(f.readlines()):\n",
    "\n",
    "            if line[:1] != ';' and line != '\\n':\n",
    "\n",
    "                if file_num == 0: # negative_words_file\n",
    "                    bing_liu_df[line[:-1]] = -1\n",
    "                else:\n",
    "                    bing_liu_df[line[:-1]] = +1\n",
    "\n",
    "bing_liu_df = dict_2_df_lexicon_builder(bing_liu_df)\n",
    "bing_liu_df.sample(5)"
   ],
   "metadata": {
    "collapsed": false,
    "pycharm": {
     "name": "#%%\n"
    }
   }
  },
  {
   "cell_type": "markdown",
   "source": [
    "## TidyText Lexicon"
   ],
   "metadata": {
    "collapsed": false,
    "pycharm": {
     "name": "#%% md\n"
    }
   }
  },
  {
   "cell_type": "code",
   "execution_count": 7,
   "outputs": [
    {
     "name": "stdout",
     "output_type": "stream",
     "text": [
      "Shape (15133, 3)\n"
     ]
    },
    {
     "data": {
      "text/plain": "              word sentiment   lexicon\n10184  persecution  negative      bing\n3996    prohibited  negative       nrc\n10927      scratch  negative      bing\n3573          ooze  negative       nrc\n2357      guardian  positive       nrc\n7057    desolation  negative      bing\n6101      beggarly  negative      bing\n5196      tutelage  positive       nrc\n12626      caution  negative  loughran\n5690   accusations  negative      bing",
      "text/html": "<div>\n<style scoped>\n    .dataframe tbody tr th:only-of-type {\n        vertical-align: middle;\n    }\n\n    .dataframe tbody tr th {\n        vertical-align: top;\n    }\n\n    .dataframe thead th {\n        text-align: right;\n    }\n</style>\n<table border=\"1\" class=\"dataframe\">\n  <thead>\n    <tr style=\"text-align: right;\">\n      <th></th>\n      <th>word</th>\n      <th>sentiment</th>\n      <th>lexicon</th>\n    </tr>\n  </thead>\n  <tbody>\n    <tr>\n      <th>10184</th>\n      <td>persecution</td>\n      <td>negative</td>\n      <td>bing</td>\n    </tr>\n    <tr>\n      <th>3996</th>\n      <td>prohibited</td>\n      <td>negative</td>\n      <td>nrc</td>\n    </tr>\n    <tr>\n      <th>10927</th>\n      <td>scratch</td>\n      <td>negative</td>\n      <td>bing</td>\n    </tr>\n    <tr>\n      <th>3573</th>\n      <td>ooze</td>\n      <td>negative</td>\n      <td>nrc</td>\n    </tr>\n    <tr>\n      <th>2357</th>\n      <td>guardian</td>\n      <td>positive</td>\n      <td>nrc</td>\n    </tr>\n    <tr>\n      <th>7057</th>\n      <td>desolation</td>\n      <td>negative</td>\n      <td>bing</td>\n    </tr>\n    <tr>\n      <th>6101</th>\n      <td>beggarly</td>\n      <td>negative</td>\n      <td>bing</td>\n    </tr>\n    <tr>\n      <th>5196</th>\n      <td>tutelage</td>\n      <td>positive</td>\n      <td>nrc</td>\n    </tr>\n    <tr>\n      <th>12626</th>\n      <td>caution</td>\n      <td>negative</td>\n      <td>loughran</td>\n    </tr>\n    <tr>\n      <th>5690</th>\n      <td>accusations</td>\n      <td>negative</td>\n      <td>bing</td>\n    </tr>\n  </tbody>\n</table>\n</div>"
     },
     "execution_count": 7,
     "metadata": {},
     "output_type": "execute_result"
    }
   ],
   "source": [
    "tidytext_df = pd.read_csv(tidy_text_file, sep='\\t')\n",
    "print('Shape', tidytext_df.shape)\n",
    "tidytext_df.sample(10)"
   ],
   "metadata": {
    "collapsed": false,
    "pycharm": {
     "name": "#%%\n"
    }
   }
  },
  {
   "cell_type": "markdown",
   "source": [
    "## The Great Lexicon Merge\n",
    "Interestingly TidyText already has Bing Liu lexicon, but I assume the included Bing Lui lexicon is different from the Tidy Text combined lexicon."
   ],
   "metadata": {
    "collapsed": false,
    "pycharm": {
     "name": "#%% md\n"
    }
   }
  },
  {
   "cell_type": "code",
   "execution_count": 8,
   "outputs": [
    {
     "name": "stdout",
     "output_type": "stream",
     "text": [
      "Shape (4622, 2)\n"
     ]
    },
    {
     "data": {
      "text/plain": "              words  values\n989        ejection      -1\n4506       bolsters       1\n4136     postponing      -1\n2815   surrendering      -1\n1000   emancipation       1\n2640          slate       1\n1874         morals       1\n2839          synod       1\n2917  transcendence       1\n3445     defaulting      -1",
      "text/html": "<div>\n<style scoped>\n    .dataframe tbody tr th:only-of-type {\n        vertical-align: middle;\n    }\n\n    .dataframe tbody tr th {\n        vertical-align: top;\n    }\n\n    .dataframe thead th {\n        text-align: right;\n    }\n</style>\n<table border=\"1\" class=\"dataframe\">\n  <thead>\n    <tr style=\"text-align: right;\">\n      <th></th>\n      <th>words</th>\n      <th>values</th>\n    </tr>\n  </thead>\n  <tbody>\n    <tr>\n      <th>989</th>\n      <td>ejection</td>\n      <td>-1</td>\n    </tr>\n    <tr>\n      <th>4506</th>\n      <td>bolsters</td>\n      <td>1</td>\n    </tr>\n    <tr>\n      <th>4136</th>\n      <td>postponing</td>\n      <td>-1</td>\n    </tr>\n    <tr>\n      <th>2815</th>\n      <td>surrendering</td>\n      <td>-1</td>\n    </tr>\n    <tr>\n      <th>1000</th>\n      <td>emancipation</td>\n      <td>1</td>\n    </tr>\n    <tr>\n      <th>2640</th>\n      <td>slate</td>\n      <td>1</td>\n    </tr>\n    <tr>\n      <th>1874</th>\n      <td>morals</td>\n      <td>1</td>\n    </tr>\n    <tr>\n      <th>2839</th>\n      <td>synod</td>\n      <td>1</td>\n    </tr>\n    <tr>\n      <th>2917</th>\n      <td>transcendence</td>\n      <td>1</td>\n    </tr>\n    <tr>\n      <th>3445</th>\n      <td>defaulting</td>\n      <td>-1</td>\n    </tr>\n  </tbody>\n</table>\n</div>"
     },
     "execution_count": 8,
     "metadata": {},
     "output_type": "execute_result"
    }
   ],
   "source": [
    "# bing_liu_words = bing_liu_df['words'].unique()\n",
    "bing_liu_words = set(bing_liu_df['words'])\n",
    "\n",
    "combined_df = {}\n",
    "for idx, row in tidytext_df.iterrows():\n",
    "\n",
    "    sentiment_val = row['sentiment']\n",
    "    word = row['word']\n",
    "\n",
    "    if word not in bing_liu_words:\n",
    "        if sentiment_val == 'positive':\n",
    "            combined_df[word] = 1\n",
    "        else:\n",
    "            combined_df[word] = -1\n",
    "\n",
    "combined_df = dict_2_df_lexicon_builder(combined_df)\n",
    "combined_df.sample(10)"
   ],
   "metadata": {
    "collapsed": false,
    "pycharm": {
     "name": "#%%\n"
    }
   }
  },
  {
   "cell_type": "code",
   "execution_count": 9,
   "outputs": [
    {
     "data": {
      "text/plain": "(11408, 2)"
     },
     "execution_count": 9,
     "metadata": {},
     "output_type": "execute_result"
    }
   ],
   "source": [
    "combined_df = pd.concat([bing_liu_df, combined_df])\n",
    "combined_df.shape"
   ],
   "metadata": {
    "collapsed": false,
    "pycharm": {
     "name": "#%%\n"
    }
   }
  },
  {
   "cell_type": "markdown",
   "source": [
    "Well that is interesting, the original TidyText doc has roughly 5k more records.  Let's see what is going on."
   ],
   "metadata": {
    "collapsed": false,
    "pycharm": {
     "name": "#%% md\n"
    }
   }
  },
  {
   "cell_type": "code",
   "execution_count": 10,
   "outputs": [
    {
     "data": {
      "text/plain": "abundance     4\nconfess       4\nunexpected    4\nmalice        3\nrenounce      3\nName: word, dtype: int64"
     },
     "execution_count": 10,
     "metadata": {},
     "output_type": "execute_result"
    }
   ],
   "source": [
    "tidytext_df['word'].value_counts()[:5]"
   ],
   "metadata": {
    "collapsed": false,
    "pycharm": {
     "name": "#%%\n"
    }
   }
  },
  {
   "cell_type": "code",
   "execution_count": 11,
   "outputs": [
    {
     "data": {
      "text/plain": "            word sentiment   lexicon\n32     abundance  negative       nrc\n33     abundance  positive       nrc\n5662   abundance  positive      bing\n14780  abundance  positive  loughran",
      "text/html": "<div>\n<style scoped>\n    .dataframe tbody tr th:only-of-type {\n        vertical-align: middle;\n    }\n\n    .dataframe tbody tr th {\n        vertical-align: top;\n    }\n\n    .dataframe thead th {\n        text-align: right;\n    }\n</style>\n<table border=\"1\" class=\"dataframe\">\n  <thead>\n    <tr style=\"text-align: right;\">\n      <th></th>\n      <th>word</th>\n      <th>sentiment</th>\n      <th>lexicon</th>\n    </tr>\n  </thead>\n  <tbody>\n    <tr>\n      <th>32</th>\n      <td>abundance</td>\n      <td>negative</td>\n      <td>nrc</td>\n    </tr>\n    <tr>\n      <th>33</th>\n      <td>abundance</td>\n      <td>positive</td>\n      <td>nrc</td>\n    </tr>\n    <tr>\n      <th>5662</th>\n      <td>abundance</td>\n      <td>positive</td>\n      <td>bing</td>\n    </tr>\n    <tr>\n      <th>14780</th>\n      <td>abundance</td>\n      <td>positive</td>\n      <td>loughran</td>\n    </tr>\n  </tbody>\n</table>\n</div>"
     },
     "execution_count": 11,
     "metadata": {},
     "output_type": "execute_result"
    }
   ],
   "source": [
    "tidytext_df[tidytext_df['word'] == 'abundance']"
   ],
   "metadata": {
    "collapsed": false,
    "pycharm": {
     "name": "#%%\n"
    }
   }
  },
  {
   "cell_type": "markdown",
   "source": [
    "Well that is interesting, NRC has abundance as both negative and positive.\n",
    "\n",
    "We also now see why, TidyText has more records.  Some words are in multiple, if not all lexicons and some lexicons even have a word twice!"
   ],
   "metadata": {
    "collapsed": false,
    "pycharm": {
     "name": "#%% md\n"
    }
   }
  },
  {
   "cell_type": "markdown",
   "id": "6a5f3b12",
   "metadata": {
    "pycharm": {
     "name": "#%% md\n"
    }
   },
   "source": [
    "# Sentiment Analysis on Songs\n",
    "\n",
    "In this section, score the sentiment for all the songs for both artists in your data set. Score the sentiment by manually calculating the sentiment using the combined lexicons provided in this repository. \n",
    "\n",
    "After you have calculated these sentiments, answer the questions at the end of this section.\n"
   ]
  },
  {
   "cell_type": "code",
   "execution_count": 12,
   "outputs": [],
   "source": [
    "combined_word_set = set(combined_df['words'])\n",
    "combined_word_dict = dict(zip(combined_df['words'], combined_df['values']))\n",
    "\n",
    "# code below is a modified version of the \"bing_liu_score\" function from BTAP pg. 301\n",
    "def sentiment_scorer(text):\n",
    "    sentiment_score = 0\n",
    "    # tokenize string\n",
    "    bow = word_tokenize(text.lower())\n",
    "    # remove stop words\n",
    "    bow = [word for word in bow if word not in sw]\n",
    "\n",
    "    for word in bow:\n",
    "        if word in combined_word_set:\n",
    "            sentiment_score += combined_word_dict[word]\n",
    "\n",
    "    return round(sentiment_score / len(bow),4)"
   ],
   "metadata": {
    "collapsed": false,
    "pycharm": {
     "name": "#%%\n"
    }
   }
  },
  {
   "cell_type": "markdown",
   "source": [
    "## FFDP Sentiment"
   ],
   "metadata": {
    "collapsed": false,
    "pycharm": {
     "name": "#%% md\n"
    }
   }
  },
  {
   "cell_type": "code",
   "execution_count": 13,
   "outputs": [
    {
     "data": {
      "text/plain": "   Artist                Title  \\\n10   FFDP              Hate_Me   \n2    FFDP            Salvation   \n13   FFDP  From_Out_Of_Nowhere   \n1    FFDP  The_Way_Of_The_Fist   \n15   FFDP          Hard_To_See   \n\n                                               Lyrics  sentiment_score  \n10     It's not enough It's not enough It never wa...           0.0370  \n2      Disgusted by your weakness You have no righ...           0.0250  \n13     Tossed into my mind, stirring the calm You ...           0.0361  \n1      Break this shit down! Zoltan, open the sky!...          -0.0783  \n15     I'm growing so distant Nothing makes sense ...          -0.0093  ",
      "text/html": "<div>\n<style scoped>\n    .dataframe tbody tr th:only-of-type {\n        vertical-align: middle;\n    }\n\n    .dataframe tbody tr th {\n        vertical-align: top;\n    }\n\n    .dataframe thead th {\n        text-align: right;\n    }\n</style>\n<table border=\"1\" class=\"dataframe\">\n  <thead>\n    <tr style=\"text-align: right;\">\n      <th></th>\n      <th>Artist</th>\n      <th>Title</th>\n      <th>Lyrics</th>\n      <th>sentiment_score</th>\n    </tr>\n  </thead>\n  <tbody>\n    <tr>\n      <th>10</th>\n      <td>FFDP</td>\n      <td>Hate_Me</td>\n      <td>It's not enough It's not enough It never wa...</td>\n      <td>0.0370</td>\n    </tr>\n    <tr>\n      <th>2</th>\n      <td>FFDP</td>\n      <td>Salvation</td>\n      <td>Disgusted by your weakness You have no righ...</td>\n      <td>0.0250</td>\n    </tr>\n    <tr>\n      <th>13</th>\n      <td>FFDP</td>\n      <td>From_Out_Of_Nowhere</td>\n      <td>Tossed into my mind, stirring the calm You ...</td>\n      <td>0.0361</td>\n    </tr>\n    <tr>\n      <th>1</th>\n      <td>FFDP</td>\n      <td>The_Way_Of_The_Fist</td>\n      <td>Break this shit down! Zoltan, open the sky!...</td>\n      <td>-0.0783</td>\n    </tr>\n    <tr>\n      <th>15</th>\n      <td>FFDP</td>\n      <td>Hard_To_See</td>\n      <td>I'm growing so distant Nothing makes sense ...</td>\n      <td>-0.0093</td>\n    </tr>\n  </tbody>\n</table>\n</div>"
     },
     "execution_count": 13,
     "metadata": {},
     "output_type": "execute_result"
    }
   ],
   "source": [
    "ffdp_lyrics['sentiment_score'] = ffdp_lyrics['Lyrics'].apply(sentiment_scorer)\n",
    "ffdp_lyrics.sample(5)"
   ],
   "metadata": {
    "collapsed": false,
    "pycharm": {
     "name": "#%%\n"
    }
   }
  },
  {
   "cell_type": "markdown",
   "source": [
    "## Rezz Sentiment"
   ],
   "metadata": {
    "collapsed": false,
    "pycharm": {
     "name": "#%% md\n"
    }
   }
  },
  {
   "cell_type": "code",
   "execution_count": 14,
   "outputs": [
    {
     "data": {
      "text/plain": "          Artist          Title  \\\n5   OfficialRezz        Falling   \n4   OfficialRezz          Toxin   \n10  OfficialRezz      Let_Me_In   \n6   OfficialRezz  Kiss_Of_Death   \n19  OfficialRezz              I   \n\n                                               Lyrics  sentiment_score  \n5      Is it enough that I feel like I'm falling? ...          -0.0263  \n4      You're lovely, but looks can kill You're a ...          -0.0581  \n10     I shed all my disguises Slipped deep into t...          -0.2035  \n6      Kiss of Death Kiss of Death Kiss of Death K...           0.1429  \n19                                      I [repeated]            0.0000  ",
      "text/html": "<div>\n<style scoped>\n    .dataframe tbody tr th:only-of-type {\n        vertical-align: middle;\n    }\n\n    .dataframe tbody tr th {\n        vertical-align: top;\n    }\n\n    .dataframe thead th {\n        text-align: right;\n    }\n</style>\n<table border=\"1\" class=\"dataframe\">\n  <thead>\n    <tr style=\"text-align: right;\">\n      <th></th>\n      <th>Artist</th>\n      <th>Title</th>\n      <th>Lyrics</th>\n      <th>sentiment_score</th>\n    </tr>\n  </thead>\n  <tbody>\n    <tr>\n      <th>5</th>\n      <td>OfficialRezz</td>\n      <td>Falling</td>\n      <td>Is it enough that I feel like I'm falling? ...</td>\n      <td>-0.0263</td>\n    </tr>\n    <tr>\n      <th>4</th>\n      <td>OfficialRezz</td>\n      <td>Toxin</td>\n      <td>You're lovely, but looks can kill You're a ...</td>\n      <td>-0.0581</td>\n    </tr>\n    <tr>\n      <th>10</th>\n      <td>OfficialRezz</td>\n      <td>Let_Me_In</td>\n      <td>I shed all my disguises Slipped deep into t...</td>\n      <td>-0.2035</td>\n    </tr>\n    <tr>\n      <th>6</th>\n      <td>OfficialRezz</td>\n      <td>Kiss_Of_Death</td>\n      <td>Kiss of Death Kiss of Death Kiss of Death K...</td>\n      <td>0.1429</td>\n    </tr>\n    <tr>\n      <th>19</th>\n      <td>OfficialRezz</td>\n      <td>I</td>\n      <td>I [repeated]</td>\n      <td>0.0000</td>\n    </tr>\n  </tbody>\n</table>\n</div>"
     },
     "execution_count": 14,
     "metadata": {},
     "output_type": "execute_result"
    }
   ],
   "source": [
    "rezz_lyrics['sentiment_score'] = rezz_lyrics['Lyrics'].apply(sentiment_scorer)\n",
    "rezz_lyrics.sample(5)"
   ],
   "metadata": {
    "collapsed": false,
    "pycharm": {
     "name": "#%%\n"
    }
   }
  },
  {
   "cell_type": "markdown",
   "id": "1f8334f4",
   "metadata": {
    "pycharm": {
     "name": "#%% md\n"
    }
   },
   "source": [
    "## Questions"
   ]
  },
  {
   "cell_type": "markdown",
   "source": [
    "### Q1\n",
    "#### Q:\n",
    "Overall, which artist has the higher average sentiment per song?"
   ],
   "metadata": {
    "collapsed": false,
    "pycharm": {
     "name": "#%% md\n"
    }
   }
  },
  {
   "cell_type": "code",
   "execution_count": 15,
   "outputs": [
    {
     "data": {
      "text/plain": "<Figure size 432x288 with 1 Axes>",
      "image/png": "[encoded data removed]"
     },
     "metadata": {},
     "output_type": "display_data"
    }
   ],
   "source": [
    "ffdp_lyrics['sentiment_score'].hist();"
   ],
   "metadata": {
    "collapsed": false,
    "pycharm": {
     "name": "#%%\n"
    }
   }
  },
  {
   "cell_type": "code",
   "execution_count": 16,
   "outputs": [
    {
     "data": {
      "text/plain": "count    20.000000\nmean     -0.048145\nstd       0.089823\nmin      -0.293500\n25%      -0.100100\n50%      -0.010450\n75%       0.004350\nmax       0.059700\nName: sentiment_score, dtype: float64"
     },
     "execution_count": 16,
     "metadata": {},
     "output_type": "execute_result"
    }
   ],
   "source": [
    "ffdp_lyrics['sentiment_score'].describe()"
   ],
   "metadata": {
    "collapsed": false,
    "pycharm": {
     "name": "#%%\n"
    }
   }
  },
  {
   "cell_type": "code",
   "execution_count": 17,
   "outputs": [
    {
     "data": {
      "text/plain": "-0.9629"
     },
     "execution_count": 17,
     "metadata": {},
     "output_type": "execute_result"
    }
   ],
   "source": [
    "ffdp_lyrics['sentiment_score'].sum()"
   ],
   "metadata": {
    "collapsed": false,
    "pycharm": {
     "name": "#%%\n"
    }
   }
  },
  {
   "cell_type": "code",
   "execution_count": 18,
   "outputs": [
    {
     "data": {
      "text/plain": "<Figure size 432x288 with 1 Axes>",
      "image/png": "[encoded data removed]"
     },
     "metadata": {},
     "output_type": "display_data"
    }
   ],
   "source": [
    "rezz_lyrics['sentiment_score'].hist();"
   ],
   "metadata": {
    "collapsed": false,
    "pycharm": {
     "name": "#%%\n"
    }
   }
  },
  {
   "cell_type": "code",
   "execution_count": 19,
   "outputs": [
    {
     "data": {
      "text/plain": "-1.0983999999999998"
     },
     "execution_count": 19,
     "metadata": {},
     "output_type": "execute_result"
    }
   ],
   "source": [
    "rezz_lyrics['sentiment_score'].sum()"
   ],
   "metadata": {
    "collapsed": false,
    "pycharm": {
     "name": "#%%\n"
    }
   }
  },
  {
   "cell_type": "code",
   "execution_count": 20,
   "outputs": [
    {
     "data": {
      "text/plain": "count    20.000000\nmean     -0.054920\nstd       0.173237\nmin      -0.619000\n25%      -0.074925\n50%       0.000000\n75%       0.000000\nmax       0.187500\nName: sentiment_score, dtype: float64"
     },
     "execution_count": 20,
     "metadata": {},
     "output_type": "execute_result"
    }
   ],
   "source": [
    "rezz_lyrics['sentiment_score'].describe()"
   ],
   "metadata": {
    "collapsed": false,
    "pycharm": {
     "name": "#%%\n"
    }
   }
  },
  {
   "cell_type": "code",
   "execution_count": 21,
   "outputs": [
    {
     "data": {
      "text/plain": "-0.04814499999999999"
     },
     "execution_count": 21,
     "metadata": {},
     "output_type": "execute_result"
    }
   ],
   "source": [
    "ffdp_lyrics['sentiment_score'].mean()"
   ],
   "metadata": {
    "collapsed": false,
    "pycharm": {
     "name": "#%%\n"
    }
   }
  },
  {
   "cell_type": "code",
   "execution_count": 22,
   "outputs": [
    {
     "data": {
      "text/plain": "-0.05492000000000001"
     },
     "execution_count": 22,
     "metadata": {},
     "output_type": "execute_result"
    }
   ],
   "source": [
    "rezz_lyrics['sentiment_score'].mean()"
   ],
   "metadata": {
    "collapsed": false,
    "pycharm": {
     "name": "#%%\n"
    }
   }
  },
  {
   "cell_type": "markdown",
   "source": [
    "#### A:\n",
    "\n",
    "FFDP has a slightly higher average sentiment.  And after looking at Rezz's sentiment histogram, we clearly see a good proportion of her songs are at the 0 mark.   In general, songs by Rezz have very little words and according to my previous homework, the Rezz (edm producer) lyrics corpus has half the amount of words in comparison to FFDP (metal band).  This lack of word variety within the Rezz corpus is what makes Rezz lyrics have a lower sentiment score.  Especially when a good amount of her songs containing a majority of negative sentiment words such as shown in an answer for Q2.\n",
    "\n",
    "STUDENT QUESTION!!!\n",
    "Would a deeper dive into the actual ratios of positive to negative counts be useful?  If not, what would you do at this point to get better clarification?\n",
    "\n"
   ],
   "metadata": {
    "collapsed": false,
    "pycharm": {
     "name": "#%% md\n"
    }
   }
  },
  {
   "cell_type": "markdown",
   "source": [
    "------\n",
    "#### Q2\n",
    "For your first artist, what songs have the highest and lowest sentiments? Print those songs to the screen.\n"
   ],
   "metadata": {
    "collapsed": false,
    "pycharm": {
     "name": "#%% md\n"
    }
   }
  },
  {
   "cell_type": "code",
   "execution_count": 23,
   "outputs": [
    {
     "data": {
      "text/plain": "Artist                                                          FFDP\nTitle                                                   Never_Enough\nLyrics                I'm so fed up with everyone around me No on...\nsentiment_score                                               0.0597\nName: 12, dtype: object"
     },
     "execution_count": 23,
     "metadata": {},
     "output_type": "execute_result"
    }
   ],
   "source": [
    "ffdp_lyrics.loc[ffdp_lyrics['sentiment_score'].idxmax(),:]"
   ],
   "metadata": {
    "collapsed": false,
    "pycharm": {
     "name": "#%%\n"
    }
   }
  },
  {
   "cell_type": "code",
   "execution_count": 24,
   "outputs": [
    {
     "data": {
      "text/plain": "Artist                                                          FFDP\nTitle                                                   Burn_It_Down\nLyrics                You think you know me? You don't know shit ...\nsentiment_score                                              -0.2935\nName: 19, dtype: object"
     },
     "execution_count": 24,
     "metadata": {},
     "output_type": "execute_result"
    }
   ],
   "source": [
    "ffdp_lyrics.loc[ffdp_lyrics['sentiment_score'].idxmin(),:]"
   ],
   "metadata": {
    "collapsed": false,
    "pycharm": {
     "name": "#%%\n"
    }
   }
  },
  {
   "cell_type": "markdown",
   "source": [
    "--------\n",
    "#### Q3\n",
    "For your second artist, what songs have the highest and lowest sentiments? Print those songs to the screen.\n"
   ],
   "metadata": {
    "collapsed": false,
    "pycharm": {
     "name": "#%% md\n"
    }
   }
  },
  {
   "cell_type": "code",
   "execution_count": 25,
   "outputs": [
    {
     "data": {
      "text/plain": "Artist                                                  OfficialRezz\nTitle                                                          Relax\nLyrics                Just take a nice breath in. Exhale the brea...\nsentiment_score                                               0.1875\nName: 2, dtype: object"
     },
     "execution_count": 25,
     "metadata": {},
     "output_type": "execute_result"
    }
   ],
   "source": [
    "rezz_lyrics.loc[rezz_lyrics['sentiment_score'].idxmax(),:]"
   ],
   "metadata": {
    "collapsed": false,
    "pycharm": {
     "name": "#%%\n"
    }
   }
  },
  {
   "cell_type": "code",
   "execution_count": 26,
   "outputs": [
    {
     "data": {
      "text/plain": "Artist                                                  OfficialRezz\nTitle                                                   Life_&_Death\nLyrics                Life and Death Death Death  Life Death Life...\nsentiment_score                                               -0.619\nName: 3, dtype: object"
     },
     "execution_count": 26,
     "metadata": {},
     "output_type": "execute_result"
    }
   ],
   "source": [
    "rezz_lyrics.loc[rezz_lyrics['sentiment_score'].idxmin(),:]"
   ],
   "metadata": {
    "collapsed": false,
    "pycharm": {
     "name": "#%%\n"
    }
   }
  },
  {
   "cell_type": "markdown",
   "source": [
    "------\n",
    "#### Q4\n",
    "Plot the distributions of the sentiment scores for both artists. You can use `seaborn` to plot densities or plot histograms in matplotlib.\n",
    "\n"
   ],
   "metadata": {
    "collapsed": false,
    "pycharm": {
     "name": "#%% md\n"
    }
   }
  },
  {
   "cell_type": "code",
   "execution_count": 27,
   "outputs": [
    {
     "data": {
      "text/plain": "<Figure size 432x288 with 1 Axes>",
      "image/png": "[encoded data removed]"
     },
     "metadata": {},
     "output_type": "display_data"
    }
   ],
   "source": [
    "ffdp_lyrics['sentiment_score'].hist();"
   ],
   "metadata": {
    "collapsed": false,
    "pycharm": {
     "name": "#%%\n"
    }
   }
  },
  {
   "cell_type": "code",
   "execution_count": 28,
   "outputs": [
    {
     "data": {
      "text/plain": "<Figure size 432x288 with 1 Axes>",
      "image/png": "[encoded data removed]"
     },
     "metadata": {},
     "output_type": "display_data"
    }
   ],
   "source": [
    "rezz_lyrics['sentiment_score'].hist();"
   ],
   "metadata": {
    "collapsed": false,
    "pycharm": {
     "name": "#%%\n"
    }
   }
  },
  {
   "cell_type": "markdown",
   "id": "b3fe644d",
   "metadata": {
    "pycharm": {
     "name": "#%% md\n"
    }
   },
   "source": [
    "# Sentiment Analysis on Twitter Descriptions\n",
    "\n",
    "In this section, define two sets of emojis you designate as positive and negative. Make sure to have at least 10 emojis per set. You can learn about the most popular emojis on Twitter at [the emojitracker](https://emojitracker.com/). \n",
    "\n",
    "Associate your positive emojis with a score of +1, negative with -1. Score the average sentiment of your two artists based on the Twitter descriptions of their followers. The average sentiment can just be the total score divided by number of followers. "
   ]
  },
  {
   "cell_type": "code",
   "execution_count": 61,
   "id": "1a5c1d25",
   "metadata": {
    "pycharm": {
     "name": "#%%\n"
    }
   },
   "outputs": [],
   "source": [
    "neg = [':angry_face:',\n",
    "        ':backhand_index_pointing_up:',\n",
    "        ':black_heart:',\n",
    "        ':broken_heart:',\n",
    "        ':dissapointed_relieved:',\n",
    "        ':exploding_head:',\n",
    "        ':expressionless_face:',\n",
    "        ':face_exhaling:',\n",
    "        ':grimacing_face:',\n",
    "        ':middle_finger:',\n",
    "        ':pensive_face:',\n",
    "        ':sob:',\n",
    "        ':worried_face:']\n",
    "\n",
    "pos = [':beating_heart:',\n",
    "       ':beaming_face_with_smiling_eyes:',\n",
    "       ':blue_heart:',\n",
    "       ':clapping_hands:',\n",
    "       ':face_blowing_a_kiss:',\n",
    "       ':face_with_tears_of_joy:',\n",
    "       ':fire:',\n",
    "       ':fireworks:',\n",
    "       ':folded_hands:',\n",
    "       ':green_heart:',\n",
    "       ':growing_heart:',\n",
    "       ':heart_hands:',\n",
    "       ':heart_suit:',\n",
    "       ':kissing_face:',\n",
    "       ':light_bulb:',\n",
    "       ':love-you_gesture:',\n",
    "       ':no_entry:',\n",
    "       ':purple_heart:',\n",
    "       ':red_heart:',\n",
    "       ':revolving_hearts:',\n",
    "       ':smiling_face_with_sunglasses:',\n",
    "       ':sparkling_heart:',\n",
    "       ':sun:',\n",
    "       ':two_hearts:',\n",
    "       ':white_heart:',\n",
    "       ':winking_face:',\n",
    "       ':yellow_heart:']\n",
    "\n",
    "sentiments = [neg, pos]\n",
    "\n",
    "emoji_sentiment_dict = {}\n",
    "for num, sentiment_type in enumerate(sentiments):\n",
    "    for emoji_short_hand in sentiment_type:\n",
    "\n",
    "        if num == 0:\n",
    "            emoji_sentiment_dict[emoji_short_hand] = -1\n",
    "        else:\n",
    "            emoji_sentiment_dict[emoji_short_hand] = 1"
   ]
  },
  {
   "cell_type": "markdown",
   "id": "fb92eb93",
   "metadata": {
    "pycharm": {
     "name": "#%% md\n"
    }
   },
   "source": [
    "## Questions\n",
    "### Q1\n",
    "What is the average sentiment of your two artists?\n",
    "\n"
   ]
  },
  {
   "cell_type": "code",
   "execution_count": 62,
   "outputs": [],
   "source": [
    "def emoji_sentiment_scorer(text):\n",
    "    sentiment_score = 0\n",
    "\n",
    "    for word in bow:\n",
    "        if word in combined_word_set:\n",
    "            sentiment_score += combined_word_dict[word]\n",
    "\n",
    "    return round(sentiment_score / len(bow),4)"
   ],
   "metadata": {
    "collapsed": false,
    "pycharm": {
     "name": "#%%\n"
    }
   }
  },
  {
   "cell_type": "code",
   "execution_count": 110,
   "outputs": [],
   "source": [
    "def emoji_sentiment_scorer(text):\n",
    "    '''Returns 0 if there is no Emojis in text'''\n",
    "    sentiment_score = 0\n",
    "    emoji_count = emoji.emoji_count(text)\n",
    "\n",
    "    if emoji_count > 0:\n",
    "        emoji_series = pd.DataFrame(emoji.emoji_list(text))['emoji']\n",
    "\n",
    "        emoji_text_list = []\n",
    "        for emoji_graphic in emoji_series:\n",
    "            emoji_short_hand = emoji.demojize(emoji_graphic)\n",
    "            emoji_text_list.append(emoji_short_hand)\n",
    "\n",
    "        for emoji_short_hand in emoji_text_list:\n",
    "            try:\n",
    "                sentiment_score += emoji_sentiment_dict[emoji_short_hand]\n",
    "            except:\n",
    "                '''Some emojis are able to be both + or - dependent on context\n",
    "                 & thus are given a 0. I.e. \"pleading face\".'''\n",
    "                pass\n",
    "\n",
    "        sentiment_score = sentiment_score / len(emoji_text_list)\n",
    "        sentiment_score = round(sentiment_score, 4)\n",
    "    return sentiment_score\n"
   ],
   "metadata": {
    "collapsed": false,
    "pycharm": {
     "name": "#%%\n"
    }
   }
  },
  {
   "cell_type": "code",
   "execution_count": 122,
   "outputs": [],
   "source": [
    "# remove any row with NaN values\n",
    "ffdp_twitter = ffdp_twitter.dropna().reset_index(drop=True)\n",
    "\n",
    "rezz_twitter = rezz_twitter.dropna().reset_index(drop=True)"
   ],
   "metadata": {
    "collapsed": false,
    "pycharm": {
     "name": "#%%\n"
    }
   }
  },
  {
   "cell_type": "code",
   "execution_count": 126,
   "outputs": [],
   "source": [
    "ffdp_twitter['Sentiment'] = ffdp_twitter['Description'].apply(emoji_sentiment_scorer)"
   ],
   "metadata": {
    "collapsed": false,
    "pycharm": {
     "name": "#%%\n"
    }
   }
  },
  {
   "cell_type": "code",
   "execution_count": 125,
   "outputs": [],
   "source": [
    "rezz_twitter['Sentiment'] = rezz_twitter['Description'].apply(emoji_sentiment_scorer)"
   ],
   "metadata": {
    "collapsed": false,
    "pycharm": {
     "name": "#%%\n"
    }
   }
  },
  {
   "cell_type": "markdown",
   "source": [
    "### Q2\n",
    "Which positive emoji is the most popular for each artist? Which negative emoji?"
   ],
   "metadata": {
    "collapsed": false,
    "pycharm": {
     "name": "#%% md\n"
    }
   }
  },
  {
   "cell_type": "code",
   "execution_count": null,
   "outputs": [],
   "source": [],
   "metadata": {
    "collapsed": false,
    "pycharm": {
     "name": "#%%\n"
    }
   }
  }
 ],
 "metadata": {
  "kernelspec": {
   "display_name": "Python 3 (ipykernel)",
   "language": "python",
   "name": "python3"
  },
  "language_info": {
   "codemirror_mode": {
    "name": "ipython",
    "version": 3
   },
   "file_extension": ".py",
   "mimetype": "text/x-python",
   "name": "python",
   "nbconvert_exporter": "python",
   "pygments_lexer": "ipython3",
   "version": "3.8.8"
  }
 },
 "nbformat": 4,
 "nbformat_minor": 5
}