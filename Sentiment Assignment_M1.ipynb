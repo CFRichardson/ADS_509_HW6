{
 "cells": [
  {
   "cell_type": "markdown",
   "id": "7f79baf9",
   "metadata": {
    "pycharm": {
     "name": "#%% md\n"
    }
   },
   "source": [
    "# ADS 509 Sentiment Assignment\n",
    "\n",
    "This notebook holds the Sentiment Assignment for Module 6 in ADS 509, Applied Text Mining. Work through this notebook, writing code and answering questions where required. \n",
    "\n",
    "In a previous assignment you put together Twitter data and lyrics data on two artists. In this assignment we apply sentiment analysis to those data sets. If, for some reason, you did not complete that previous assignment, data to use for this assignment can be found in the assignment materials section of Blackboard. \n"
   ]
  },
  {
   "cell_type": "code",
   "execution_count": 1,
   "id": "e2d096b7",
   "metadata": {
    "pycharm": {
     "name": "#%%\n"
    }
   },
   "outputs": [],
   "source": [
    "import os\n",
    "import re\n",
    "import emoji\n",
    "import pandas as pd\n",
    "import numpy as np\n",
    "\n",
    "from collections import Counter, defaultdict\n",
    "from string import punctuation\n",
    "\n",
    "from nltk.corpus import stopwords\n",
    "\n",
    "sw = stopwords.words(\"english\")"
   ]
  },
  {
   "cell_type": "code",
   "execution_count": 2,
   "id": "6b555ab2",
   "metadata": {
    "pycharm": {
     "name": "#%%\n"
    }
   },
   "outputs": [],
   "source": [
    "from nltk.tokenize import word_tokenize\n",
    "def dict_2_df_lexicon_builder(dict_):\n",
    "\n",
    "    df = pd.DataFrame.from_dict(dict_, orient='index').reset_index()\n",
    "    df.rename(columns={'index':'words',\n",
    "                       0:'values'},\n",
    "              inplace=True)\n",
    "    print('Shape', df.shape)\n",
    "    return df\n",
    "\n"
   ]
  },
  {
   "cell_type": "code",
   "execution_count": 3,
   "id": "923b5a86",
   "metadata": {
    "pycharm": {
     "name": "#%%\n"
    }
   },
   "outputs": [],
   "source": [
    "# change `data_location` to the location of the folder on your machine.\n",
    "data_location = \"/Volumes/GoogleDrive/My Drive/_509/M1\"\n",
    "\n",
    "# These subfolders should still work if you correctly stored the\n",
    "# data from the Module 1 assignment\n",
    "twitter_folder = \"twitter/\"\n",
    "lyrics_folder = \"lyrics/\"\n",
    "\n",
    "positive_words_file = \"positive-words.txt\"\n",
    "negative_words_file = \"negative-words.txt\"\n",
    "tidy_text_file = \"tidytext_sentiments.txt\""
   ]
  },
  {
   "cell_type": "markdown",
   "id": "9d3bf93e",
   "metadata": {
    "pycharm": {
     "name": "#%% md\n"
    }
   },
   "source": [
    "## Data Input\n",
    "\n",
    "Now read in each of the corpora. For the lyrics data, it may be convenient to store the entire contents of the file to make it easier to inspect the titles individually, as you'll do in the last part of the assignment. In the solution, I stored the lyrics data in a dictionary with two dimensions of keys: artist and song. The value was the file contents. A Pandas data frame would work equally well. \n",
    "\n",
    "For the Twitter data, we only need the description field for this assignment. Feel free all the descriptions read it into a data structure. In the solution, I stored the descriptions as a dictionary of lists, with the key being the artist. \n",
    "\n",
    "\n"
   ]
  },
  {
   "cell_type": "code",
   "execution_count": 4,
   "id": "37d70801",
   "metadata": {
    "pycharm": {
     "name": "#%%\n"
    }
   },
   "outputs": [],
   "source": [
    "# Read in the lyrics data\n",
    "path_ = data_location + '/lyrics/FFDP/FFDP_song_lyrics_df.csv'\n",
    "ffdp_lyrics = pd.read_csv(path_)\n",
    "\n",
    "# Read in the lyrics data\n",
    "path_ = data_location + '/lyrics/OfficialRezz/OfficialRezz_song_lyrics_df.csv'\n",
    "rezz_lyrics = pd.read_csv(path_)"
   ]
  },
  {
   "cell_type": "code",
   "execution_count": 5,
   "id": "debcac5a",
   "metadata": {
    "pycharm": {
     "name": "#%%\n"
    }
   },
   "outputs": [],
   "source": [
    "# Read in the twitter data\n",
    "path_ = data_location + '/twitter/FFDP_followers_data.txt'\n",
    "ffdp_twitter = pd.read_csv(path_,\n",
    "                           sep=\"\\t\",\n",
    "                           engine='python')\n",
    "\n",
    "path_ = data_location + '/twitter/OfficialRezz_followers_data.txt'\n",
    "rezz_twitter = pd.read_csv(path_,\n",
    "                           sep=\"\\t\",\n",
    "                           engine='python')"
   ]
  },
  {
   "cell_type": "markdown",
   "source": [
    "## Bing Liu Lexicon build\n"
   ],
   "metadata": {
    "collapsed": false,
    "pycharm": {
     "name": "#%% md\n"
    }
   }
  },
  {
   "cell_type": "code",
   "execution_count": 32,
   "outputs": [
    {
     "name": "stdout",
     "output_type": "stream",
     "text": [
      "Shape (6786, 2)\n"
     ]
    },
    {
     "data": {
      "text/plain": "              words  values\n3933       snobbish       0\n5647          gutsy       1\n1022  deteriorating       0\n5428       expertly       1\n5769    influential       1",
      "text/html": "<div>\n<style scoped>\n    .dataframe tbody tr th:only-of-type {\n        vertical-align: middle;\n    }\n\n    .dataframe tbody tr th {\n        vertical-align: top;\n    }\n\n    .dataframe thead th {\n        text-align: right;\n    }\n</style>\n<table border=\"1\" class=\"dataframe\">\n  <thead>\n    <tr style=\"text-align: right;\">\n      <th></th>\n      <th>words</th>\n      <th>values</th>\n    </tr>\n  </thead>\n  <tbody>\n    <tr>\n      <th>3933</th>\n      <td>snobbish</td>\n      <td>0</td>\n    </tr>\n    <tr>\n      <th>5647</th>\n      <td>gutsy</td>\n      <td>1</td>\n    </tr>\n    <tr>\n      <th>1022</th>\n      <td>deteriorating</td>\n      <td>0</td>\n    </tr>\n    <tr>\n      <th>5428</th>\n      <td>expertly</td>\n      <td>1</td>\n    </tr>\n    <tr>\n      <th>5769</th>\n      <td>influential</td>\n      <td>1</td>\n    </tr>\n  </tbody>\n</table>\n</div>"
     },
     "execution_count": 32,
     "metadata": {},
     "output_type": "execute_result"
    }
   ],
   "source": [
    "bing_liu_df = {}\n",
    "word_files = [negative_words_file, positive_words_file]\n",
    "\n",
    "for file_num, file_ in enumerate(word_files):\n",
    "    with open(file_, 'r', encoding=\"ISO-8859-1\") as f:\n",
    "\n",
    "        for idx, line in enumerate(f.readlines()):\n",
    "\n",
    "            if line[:1] != ';' and line != '\\n':\n",
    "\n",
    "                if file_num == 0: # negative_words_file\n",
    "                    bing_liu_df[line[:-1]] = 0\n",
    "                else:\n",
    "                    bing_liu_df[line[:-1]] = +1\n",
    "\n",
    "bing_liu_df = dict_2_df_lexicon_builder(bing_liu_df)\n",
    "bing_liu_df.sample(5)"
   ],
   "metadata": {
    "collapsed": false,
    "pycharm": {
     "name": "#%%\n"
    }
   }
  },
  {
   "cell_type": "markdown",
   "source": [
    "## TidyText Lexicon"
   ],
   "metadata": {
    "collapsed": false,
    "pycharm": {
     "name": "#%% md\n"
    }
   }
  },
  {
   "cell_type": "code",
   "execution_count": 7,
   "outputs": [
    {
     "name": "stdout",
     "output_type": "stream",
     "text": [
      "Shape (15133, 3)\n"
     ]
    },
    {
     "data": {
      "text/plain": "                  word sentiment lexicon\n6773           cringed  negative    bing\n6081          battered  negative    bing\n8893  incomprehensible  negative    bing\n6970            delays  negative    bing\n6357              bump  negative    bing\n1043     contamination  negative     nrc\n7366        dissension  negative    bing\n7090     deteriorating  negative    bing\n686             busted  negative     nrc\n8238            gaiety  positive    bing",
      "text/html": "<div>\n<style scoped>\n    .dataframe tbody tr th:only-of-type {\n        vertical-align: middle;\n    }\n\n    .dataframe tbody tr th {\n        vertical-align: top;\n    }\n\n    .dataframe thead th {\n        text-align: right;\n    }\n</style>\n<table border=\"1\" class=\"dataframe\">\n  <thead>\n    <tr style=\"text-align: right;\">\n      <th></th>\n      <th>word</th>\n      <th>sentiment</th>\n      <th>lexicon</th>\n    </tr>\n  </thead>\n  <tbody>\n    <tr>\n      <th>6773</th>\n      <td>cringed</td>\n      <td>negative</td>\n      <td>bing</td>\n    </tr>\n    <tr>\n      <th>6081</th>\n      <td>battered</td>\n      <td>negative</td>\n      <td>bing</td>\n    </tr>\n    <tr>\n      <th>8893</th>\n      <td>incomprehensible</td>\n      <td>negative</td>\n      <td>bing</td>\n    </tr>\n    <tr>\n      <th>6970</th>\n      <td>delays</td>\n      <td>negative</td>\n      <td>bing</td>\n    </tr>\n    <tr>\n      <th>6357</th>\n      <td>bump</td>\n      <td>negative</td>\n      <td>bing</td>\n    </tr>\n    <tr>\n      <th>1043</th>\n      <td>contamination</td>\n      <td>negative</td>\n      <td>nrc</td>\n    </tr>\n    <tr>\n      <th>7366</th>\n      <td>dissension</td>\n      <td>negative</td>\n      <td>bing</td>\n    </tr>\n    <tr>\n      <th>7090</th>\n      <td>deteriorating</td>\n      <td>negative</td>\n      <td>bing</td>\n    </tr>\n    <tr>\n      <th>686</th>\n      <td>busted</td>\n      <td>negative</td>\n      <td>nrc</td>\n    </tr>\n    <tr>\n      <th>8238</th>\n      <td>gaiety</td>\n      <td>positive</td>\n      <td>bing</td>\n    </tr>\n  </tbody>\n</table>\n</div>"
     },
     "execution_count": 7,
     "metadata": {},
     "output_type": "execute_result"
    }
   ],
   "source": [
    "tidytext_df = pd.read_csv(tidy_text_file, sep='\\t')\n",
    "print('Shape', tidytext_df.shape)\n",
    "tidytext_df.sample(10)"
   ],
   "metadata": {
    "collapsed": false,
    "pycharm": {
     "name": "#%%\n"
    }
   }
  },
  {
   "cell_type": "markdown",
   "source": [
    "## The Great Lexicon Merge\n",
    "Interestingly TidyText already has Bing Liu lexicon, but I assume the included Bing Lui lexicon is different from the Tidy Text combined lexicon."
   ],
   "metadata": {
    "collapsed": false,
    "pycharm": {
     "name": "#%% md\n"
    }
   }
  },
  {
   "cell_type": "code",
   "execution_count": 42,
   "outputs": [
    {
     "name": "stdout",
     "output_type": "stream",
     "text": [
      "Shape (4622, 2)\n"
     ]
    },
    {
     "data": {
      "text/plain": "           words  values\n3033       usher       1\n2890      tiling       1\n199      assuage       1\n2590       serum       1\n2385   reinstate       1\n2002   opportune       1\n3477    demotion       0\n3860  infringing       0\n963         duet       1\n3533   disappear       0",
      "text/html": "<div>\n<style scoped>\n    .dataframe tbody tr th:only-of-type {\n        vertical-align: middle;\n    }\n\n    .dataframe tbody tr th {\n        vertical-align: top;\n    }\n\n    .dataframe thead th {\n        text-align: right;\n    }\n</style>\n<table border=\"1\" class=\"dataframe\">\n  <thead>\n    <tr style=\"text-align: right;\">\n      <th></th>\n      <th>words</th>\n      <th>values</th>\n    </tr>\n  </thead>\n  <tbody>\n    <tr>\n      <th>3033</th>\n      <td>usher</td>\n      <td>1</td>\n    </tr>\n    <tr>\n      <th>2890</th>\n      <td>tiling</td>\n      <td>1</td>\n    </tr>\n    <tr>\n      <th>199</th>\n      <td>assuage</td>\n      <td>1</td>\n    </tr>\n    <tr>\n      <th>2590</th>\n      <td>serum</td>\n      <td>1</td>\n    </tr>\n    <tr>\n      <th>2385</th>\n      <td>reinstate</td>\n      <td>1</td>\n    </tr>\n    <tr>\n      <th>2002</th>\n      <td>opportune</td>\n      <td>1</td>\n    </tr>\n    <tr>\n      <th>3477</th>\n      <td>demotion</td>\n      <td>0</td>\n    </tr>\n    <tr>\n      <th>3860</th>\n      <td>infringing</td>\n      <td>0</td>\n    </tr>\n    <tr>\n      <th>963</th>\n      <td>duet</td>\n      <td>1</td>\n    </tr>\n    <tr>\n      <th>3533</th>\n      <td>disappear</td>\n      <td>0</td>\n    </tr>\n  </tbody>\n</table>\n</div>"
     },
     "execution_count": 42,
     "metadata": {},
     "output_type": "execute_result"
    }
   ],
   "source": [
    "# bing_liu_words = bing_liu_df['words'].unique()\n",
    "bing_liu_words = set(bing_liu_df['words'])\n",
    "\n",
    "combined_df = {}\n",
    "for idx, row in tidytext_df.iterrows():\n",
    "\n",
    "    sentiment_val = row['sentiment']\n",
    "    word = row['word']\n",
    "\n",
    "    if word not in bing_liu_words:\n",
    "        if sentiment_val == 'positive':\n",
    "            combined_df[word] = 1\n",
    "        else:\n",
    "            combined_df[word] = 0\n",
    "\n",
    "combined_df = dict_2_df_lexicon_builder(combined_df)\n",
    "combined_df.sample(10)"
   ],
   "metadata": {
    "collapsed": false,
    "pycharm": {
     "name": "#%%\n"
    }
   }
  },
  {
   "cell_type": "code",
   "execution_count": 37,
   "outputs": [
    {
     "data": {
      "text/plain": "(11408, 2)"
     },
     "execution_count": 37,
     "metadata": {},
     "output_type": "execute_result"
    }
   ],
   "source": [
    "combined_df = pd.concat([bing_liu_df, combined_df])\n",
    "combined_df.shape"
   ],
   "metadata": {
    "collapsed": false,
    "pycharm": {
     "name": "#%%\n"
    }
   }
  },
  {
   "cell_type": "markdown",
   "source": [
    "Well that is interesting, the original TidyText doc has roughly 5k more records.  Let's see what is going on."
   ],
   "metadata": {
    "collapsed": false,
    "pycharm": {
     "name": "#%% md\n"
    }
   }
  },
  {
   "cell_type": "code",
   "execution_count": 39,
   "outputs": [
    {
     "data": {
      "text/plain": "abundance     4\nconfess       4\nunexpected    4\nmalice        3\nrenounce      3\nName: word, dtype: int64"
     },
     "execution_count": 39,
     "metadata": {},
     "output_type": "execute_result"
    }
   ],
   "source": [
    "tidytext_df['word'].value_counts()[:5]"
   ],
   "metadata": {
    "collapsed": false,
    "pycharm": {
     "name": "#%%\n"
    }
   }
  },
  {
   "cell_type": "code",
   "execution_count": 40,
   "outputs": [
    {
     "data": {
      "text/plain": "            word sentiment   lexicon\n32     abundance  negative       nrc\n33     abundance  positive       nrc\n5662   abundance  positive      bing\n14780  abundance  positive  loughran",
      "text/html": "<div>\n<style scoped>\n    .dataframe tbody tr th:only-of-type {\n        vertical-align: middle;\n    }\n\n    .dataframe tbody tr th {\n        vertical-align: top;\n    }\n\n    .dataframe thead th {\n        text-align: right;\n    }\n</style>\n<table border=\"1\" class=\"dataframe\">\n  <thead>\n    <tr style=\"text-align: right;\">\n      <th></th>\n      <th>word</th>\n      <th>sentiment</th>\n      <th>lexicon</th>\n    </tr>\n  </thead>\n  <tbody>\n    <tr>\n      <th>32</th>\n      <td>abundance</td>\n      <td>negative</td>\n      <td>nrc</td>\n    </tr>\n    <tr>\n      <th>33</th>\n      <td>abundance</td>\n      <td>positive</td>\n      <td>nrc</td>\n    </tr>\n    <tr>\n      <th>5662</th>\n      <td>abundance</td>\n      <td>positive</td>\n      <td>bing</td>\n    </tr>\n    <tr>\n      <th>14780</th>\n      <td>abundance</td>\n      <td>positive</td>\n      <td>loughran</td>\n    </tr>\n  </tbody>\n</table>\n</div>"
     },
     "execution_count": 40,
     "metadata": {},
     "output_type": "execute_result"
    }
   ],
   "source": [
    "tidytext_df[tidytext_df['word'] == 'abundance']"
   ],
   "metadata": {
    "collapsed": false,
    "pycharm": {
     "name": "#%%\n"
    }
   }
  },
  {
   "cell_type": "markdown",
   "source": [
    "Well that is interesting, NRC has abundance as both negative and positive.\n",
    "\n",
    "We also now see why, TidyText has more records.  Some words are in multiple, if not all lexicons and some lexicons even have a word twice!"
   ],
   "metadata": {
    "collapsed": false,
    "pycharm": {
     "name": "#%% md\n"
    }
   }
  },
  {
   "cell_type": "markdown",
   "id": "6a5f3b12",
   "metadata": {
    "pycharm": {
     "name": "#%% md\n"
    }
   },
   "source": [
    "# Sentiment Analysis on Songs\n",
    "\n",
    "In this section, score the sentiment for all the songs for both artists in your data set. Score the sentiment by manually calculating the sentiment using the combined lexicons provided in this repository. \n",
    "\n",
    "After you have calculated these sentiments, answer the questions at the end of this section.\n"
   ]
  },
  {
   "cell_type": "code",
   "execution_count": 128,
   "outputs": [],
   "source": [
    "combined_word_set = set(combined_df['words'])\n",
    "combined_word_dict = dict(zip(combined_df['words'], combined_df['values']))\n",
    "\n",
    "# code below is a modified version of the \"bing_liu_score\" function from BTAP pg. 301\n",
    "def sentiment_scorer(text):\n",
    "    sentiment_score = 0\n",
    "    # tokenize string\n",
    "    bow = word_tokenize(text.lower())\n",
    "    # remove stop words\n",
    "    bow = [word for word in bow if word not in sw]\n",
    "\n",
    "    for word in bow:\n",
    "        if word in combined_word_set:\n",
    "            sentiment_score += combined_word_dict[word]\n",
    "\n",
    "    return round(sentiment_score / len(bow),4)"
   ],
   "metadata": {
    "collapsed": false,
    "pycharm": {
     "name": "#%%\n"
    }
   }
  },
  {
   "cell_type": "markdown",
   "source": [
    "## FFDP Sentiment"
   ],
   "metadata": {
    "collapsed": false,
    "pycharm": {
     "name": "#%% md\n"
    }
   }
  },
  {
   "cell_type": "code",
   "execution_count": 126,
   "outputs": [
    {
     "data": {
      "text/plain": "   Artist           Title                                             Lyrics  \\\n18   FFDP   Crossing_Over     Perched alone, he sits there broken An elde...   \n4    FFDP  A_Place_To_Die     It's days like this I wish that Wish that I...   \n6    FFDP  White_Knuckles     Oh, fuck it all!  Sick of being sick and ti...   \n7    FFDP  Can't_Heal_You     The deeper you get, the farther you fall do...   \n14   FFDP     Dying_Breed     Round one! I swear to God I'd do it for fun...   \n\n    sentiment_score  \n18           0.0109  \n4            0.0349  \n6            0.0508  \n7            0.0809  \n14           0.0164  ",
      "text/html": "<div>\n<style scoped>\n    .dataframe tbody tr th:only-of-type {\n        vertical-align: middle;\n    }\n\n    .dataframe tbody tr th {\n        vertical-align: top;\n    }\n\n    .dataframe thead th {\n        text-align: right;\n    }\n</style>\n<table border=\"1\" class=\"dataframe\">\n  <thead>\n    <tr style=\"text-align: right;\">\n      <th></th>\n      <th>Artist</th>\n      <th>Title</th>\n      <th>Lyrics</th>\n      <th>sentiment_score</th>\n    </tr>\n  </thead>\n  <tbody>\n    <tr>\n      <th>18</th>\n      <td>FFDP</td>\n      <td>Crossing_Over</td>\n      <td>Perched alone, he sits there broken An elde...</td>\n      <td>0.0109</td>\n    </tr>\n    <tr>\n      <th>4</th>\n      <td>FFDP</td>\n      <td>A_Place_To_Die</td>\n      <td>It's days like this I wish that Wish that I...</td>\n      <td>0.0349</td>\n    </tr>\n    <tr>\n      <th>6</th>\n      <td>FFDP</td>\n      <td>White_Knuckles</td>\n      <td>Oh, fuck it all!  Sick of being sick and ti...</td>\n      <td>0.0508</td>\n    </tr>\n    <tr>\n      <th>7</th>\n      <td>FFDP</td>\n      <td>Can't_Heal_You</td>\n      <td>The deeper you get, the farther you fall do...</td>\n      <td>0.0809</td>\n    </tr>\n    <tr>\n      <th>14</th>\n      <td>FFDP</td>\n      <td>Dying_Breed</td>\n      <td>Round one! I swear to God I'd do it for fun...</td>\n      <td>0.0164</td>\n    </tr>\n  </tbody>\n</table>\n</div>"
     },
     "execution_count": 126,
     "metadata": {},
     "output_type": "execute_result"
    }
   ],
   "source": [
    "ffdp_lyrics['sentiment_score'] = ffdp_lyrics['Lyrics'].apply(sentiment_scorer)\n",
    "ffdp_lyrics.sample(5)"
   ],
   "metadata": {
    "collapsed": false,
    "pycharm": {
     "name": "#%%\n"
    }
   }
  },
  {
   "cell_type": "markdown",
   "source": [
    "## Rezz Sentiment"
   ],
   "metadata": {
    "collapsed": false,
    "pycharm": {
     "name": "#%% md\n"
    }
   }
  },
  {
   "cell_type": "code",
   "execution_count": 127,
   "outputs": [
    {
     "data": {
      "text/plain": "          Artist                             Title  \\\n2   OfficialRezz                             Relax   \n8   OfficialRezz  Your_Soul_Will_Never_Be_Released   \n5   OfficialRezz                           Falling   \n3   OfficialRezz                      Life_&_Death   \n15  OfficialRezz                              Time   \n\n                                               Lyrics  sentiment_score  \n2      Just take a nice breath in. Exhale the brea...           0.0938  \n8                   Your soul will never be released            0.0000  \n5      Is it enough that I feel like I'm falling? ...           0.0000  \n3      Life and Death Death Death  Life Death Life...           0.0000  \n15     Take your time Oh, take your time Oh, take ...           0.0000  ",
      "text/html": "<div>\n<style scoped>\n    .dataframe tbody tr th:only-of-type {\n        vertical-align: middle;\n    }\n\n    .dataframe tbody tr th {\n        vertical-align: top;\n    }\n\n    .dataframe thead th {\n        text-align: right;\n    }\n</style>\n<table border=\"1\" class=\"dataframe\">\n  <thead>\n    <tr style=\"text-align: right;\">\n      <th></th>\n      <th>Artist</th>\n      <th>Title</th>\n      <th>Lyrics</th>\n      <th>sentiment_score</th>\n    </tr>\n  </thead>\n  <tbody>\n    <tr>\n      <th>2</th>\n      <td>OfficialRezz</td>\n      <td>Relax</td>\n      <td>Just take a nice breath in. Exhale the brea...</td>\n      <td>0.0938</td>\n    </tr>\n    <tr>\n      <th>8</th>\n      <td>OfficialRezz</td>\n      <td>Your_Soul_Will_Never_Be_Released</td>\n      <td>Your soul will never be released</td>\n      <td>0.0000</td>\n    </tr>\n    <tr>\n      <th>5</th>\n      <td>OfficialRezz</td>\n      <td>Falling</td>\n      <td>Is it enough that I feel like I'm falling? ...</td>\n      <td>0.0000</td>\n    </tr>\n    <tr>\n      <th>3</th>\n      <td>OfficialRezz</td>\n      <td>Life_&amp;_Death</td>\n      <td>Life and Death Death Death  Life Death Life...</td>\n      <td>0.0000</td>\n    </tr>\n    <tr>\n      <th>15</th>\n      <td>OfficialRezz</td>\n      <td>Time</td>\n      <td>Take your time Oh, take your time Oh, take ...</td>\n      <td>0.0000</td>\n    </tr>\n  </tbody>\n</table>\n</div>"
     },
     "execution_count": 127,
     "metadata": {},
     "output_type": "execute_result"
    }
   ],
   "source": [
    "rezz_lyrics['sentiment_score'] = rezz_lyrics['Lyrics'].apply(sentiment_scorer)\n",
    "rezz_lyrics.sample(5)"
   ],
   "metadata": {
    "collapsed": false,
    "pycharm": {
     "name": "#%%\n"
    }
   }
  },
  {
   "cell_type": "code",
   "execution_count": null,
   "outputs": [],
   "source": [],
   "metadata": {
    "collapsed": false,
    "pycharm": {
     "name": "#%%\n"
    }
   }
  },
  {
   "cell_type": "markdown",
   "id": "1f8334f4",
   "metadata": {
    "pycharm": {
     "name": "#%% md\n"
    }
   },
   "source": [
    "## Questions"
   ]
  },
  {
   "cell_type": "markdown",
   "source": [
    "### Q1\n",
    "#### Q:\n",
    "Overall, which artist has the higher average sentiment per song?"
   ],
   "metadata": {
    "collapsed": false,
    "pycharm": {
     "name": "#%% md\n"
    }
   }
  },
  {
   "cell_type": "code",
   "execution_count": 132,
   "outputs": [
    {
     "data": {
      "text/plain": "<Figure size 432x288 with 1 Axes>",
      "image/png": "[encoded data removed]"
     },
     "metadata": {
      "needs_background": "light"
     },
     "output_type": "display_data"
    }
   ],
   "source": [
    "ffdp_lyrics['sentiment_score'].hist();"
   ],
   "metadata": {
    "collapsed": false,
    "pycharm": {
     "name": "#%%\n"
    }
   }
  },
  {
   "cell_type": "code",
   "execution_count": 129,
   "outputs": [
    {
     "data": {
      "text/plain": "0.037695"
     },
     "execution_count": 129,
     "metadata": {},
     "output_type": "execute_result"
    }
   ],
   "source": [
    "ffdp_lyrics['sentiment_score'].mean()"
   ],
   "metadata": {
    "collapsed": false,
    "pycharm": {
     "name": "#%%\n"
    }
   }
  },
  {
   "cell_type": "code",
   "execution_count": 133,
   "outputs": [
    {
     "data": {
      "text/plain": "<Figure size 432x288 with 1 Axes>",
      "image/png": "[encoded data removed]"
     },
     "metadata": {
      "needs_background": "light"
     },
     "output_type": "display_data"
    }
   ],
   "source": [
    "rezz_lyrics['sentiment_score'].hist();"
   ],
   "metadata": {
    "collapsed": false,
    "pycharm": {
     "name": "#%%\n"
    }
   }
  },
  {
   "cell_type": "code",
   "execution_count": 130,
   "outputs": [
    {
     "data": {
      "text/plain": "0.04622"
     },
     "execution_count": 130,
     "metadata": {},
     "output_type": "execute_result"
    }
   ],
   "source": [
    "rezz_lyrics['sentiment_score'].mean()"
   ],
   "metadata": {
    "collapsed": false,
    "pycharm": {
     "name": "#%%\n"
    }
   }
  },
  {
   "cell_type": "markdown",
   "source": [
    "#### A:\n",
    "\n",
    "\n",
    "-----\n"
   ],
   "metadata": {
    "collapsed": false,
    "pycharm": {
     "name": "#%% md\n"
    }
   }
  },
  {
   "cell_type": "markdown",
   "source": [
    "#### Q2\n",
    "For your first artist, what songs have the highest and lowest sentiments? Print those songs to the screen.\n"
   ],
   "metadata": {
    "collapsed": false,
    "pycharm": {
     "name": "#%% md\n"
    }
   }
  },
  {
   "cell_type": "code",
   "execution_count": null,
   "outputs": [],
   "source": [],
   "metadata": {
    "collapsed": false,
    "pycharm": {
     "name": "#%%\n"
    }
   }
  },
  {
   "cell_type": "markdown",
   "source": [
    "#### A:\n",
    "\n",
    "\n",
    "_______"
   ],
   "metadata": {
    "collapsed": false,
    "pycharm": {
     "name": "#%% md\n"
    }
   }
  },
  {
   "cell_type": "markdown",
   "source": [
    "#### Q3\n",
    "For your second artist, what songs have the highest and lowest sentiments? Print those songs to the screen.\n"
   ],
   "metadata": {
    "collapsed": false,
    "pycharm": {
     "name": "#%% md\n"
    }
   }
  },
  {
   "cell_type": "code",
   "execution_count": null,
   "outputs": [],
   "source": [],
   "metadata": {
    "collapsed": false,
    "pycharm": {
     "name": "#%%\n"
    }
   }
  },
  {
   "cell_type": "markdown",
   "source": [
    "A:\n",
    "\n",
    "-------\n"
   ],
   "metadata": {
    "collapsed": false,
    "pycharm": {
     "name": "#%% md\n"
    }
   }
  },
  {
   "cell_type": "code",
   "execution_count": null,
   "outputs": [],
   "source": [],
   "metadata": {
    "collapsed": false,
    "pycharm": {
     "name": "#%%\n"
    }
   }
  },
  {
   "cell_type": "markdown",
   "source": [
    "Q: Plot the distributions of the sentiment scores for both artists. You can use `seaborn` to plot densities or plot histograms in matplotlib.\n",
    "\n"
   ],
   "metadata": {
    "collapsed": false,
    "pycharm": {
     "name": "#%% md\n"
    }
   }
  },
  {
   "cell_type": "code",
   "execution_count": null,
   "outputs": [],
   "source": [],
   "metadata": {
    "collapsed": false,
    "pycharm": {
     "name": "#%%\n"
    }
   }
  },
  {
   "cell_type": "markdown",
   "id": "b3fe644d",
   "metadata": {
    "pycharm": {
     "name": "#%% md\n"
    }
   },
   "source": [
    "# Sentiment Analysis on Twitter Descriptions\n",
    "\n",
    "In this section, define two sets of emojis you designate as positive and negative. Make sure to have at least 10 emojis per set. You can learn about the most popular emojis on Twitter at [the emojitracker](https://emojitracker.com/). \n",
    "\n",
    "Associate your positive emojis with a score of +1, negative with -1. Score the average sentiment of your two artists based on the Twitter descriptions of their followers. The average sentiment can just be the total score divided by number of followers. "
   ]
  },
  {
   "cell_type": "code",
   "execution_count": null,
   "id": "1a5c1d25",
   "metadata": {
    "pycharm": {
     "name": "#%%\n"
    }
   },
   "outputs": [],
   "source": [
    "# your code here"
   ]
  },
  {
   "cell_type": "markdown",
   "id": "fb92eb93",
   "metadata": {
    "pycharm": {
     "name": "#%% md\n"
    }
   },
   "source": [
    "Q: What is the average sentiment of your two artists? \n",
    "\n",
    "A: <!-- Your answer here --> \n",
    "\n",
    "---\n",
    "\n",
    "Q: Which positive emoji is the most popular for each artist? Which negative emoji? \n",
    "\n",
    "A: <!-- Your answer here --> \n",
    "\n"
   ]
  }
 ],
 "metadata": {
  "kernelspec": {
   "display_name": "Python 3 (ipykernel)",
   "language": "python",
   "name": "python3"
  },
  "language_info": {
   "codemirror_mode": {
    "name": "ipython",
    "version": 3
   },
   "file_extension": ".py",
   "mimetype": "text/x-python",
   "name": "python",
   "nbconvert_exporter": "python",
   "pygments_lexer": "ipython3",
   "version": "3.8.8"
  }
 },
 "nbformat": 4,
 "nbformat_minor": 5
}